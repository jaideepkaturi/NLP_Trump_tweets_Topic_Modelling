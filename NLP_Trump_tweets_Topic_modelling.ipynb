{
 "cells": [
  {
   "cell_type": "markdown",
   "metadata": {},
   "source": [
    "For this project, I have downloaded the tweets from the @realDonaldTrump twitter account. Clearly it's an influential account, and those 280 characters (formerly 140) have proven to weild far too much power. The aim here is to perform an NLP analysis on the tweets to try and discover the main themes of his tweets. We will use an unsupervised approach called LDA (http://www.jmlr.org/papers/volume3/blei03a/blei03a.pdf) to perform Topic Modelling. We will be using it's implementation in gensim.    "
   ]
  },
  {
   "cell_type": "code",
   "execution_count": 3,
   "metadata": {},
   "outputs": [],
   "source": [
    "# imports\n",
    "import pandas as pd\n",
    "import spacy\n",
    "from tqdm import tqdm\n",
    "from gensim.models.phrases import Phrases , Phraser\n",
    "from gensim.corpora import Dictionary\n",
    "from gensim.models.ldamulticore import LdaModel\n",
    "import pyLDAvis\n",
    "import pyLDAvis.gensim\n",
    "import seaborn as sns\n",
    "import nltk\n",
    "import string\n",
    "from nltk.tokenize import sent_tokenize\n",
    "from nltk.tokenize import word_tokenize\n",
    "punctuations = string.punctuation\n",
    "from nltk.corpus import stopwords\n",
    "stopwords = stopwords.words('english')\n",
    "pd.set_option('display.max_colwidth', -1) #to show full tweets in the cells."
   ]
  },
  {
   "cell_type": "markdown",
   "metadata": {},
   "source": [
    "I have used the twitter API to download the tweets from user: @realDonaldTrump. tweet_download.py contains the script to use the Twitter API to download tweets from any user. Twitter allows only for the 3000 most recent tweets to be downloaded. However I had downloaded another batch sometime ago, and I merged the two (see Twitter_compiler_purge_scaled.py to see how I went about this process accounting for the Twitter purge that happened a few months ago when millions of bot accounts were deleted from twitter and the effect it had on number of likes/retweets for Trump) to end up with 5000 something tweets. "
   ]
  },
  {
   "cell_type": "code",
   "execution_count": 4,
   "metadata": {},
   "outputs": [
    {
     "data": {
      "text/html": [
       "<div>\n",
       "<style scoped>\n",
       "    .dataframe tbody tr th:only-of-type {\n",
       "        vertical-align: middle;\n",
       "    }\n",
       "\n",
       "    .dataframe tbody tr th {\n",
       "        vertical-align: top;\n",
       "    }\n",
       "\n",
       "    .dataframe thead th {\n",
       "        text-align: right;\n",
       "    }\n",
       "</style>\n",
       "<table border=\"1\" class=\"dataframe\">\n",
       "  <thead>\n",
       "    <tr style=\"text-align: right;\">\n",
       "      <th></th>\n",
       "      <th>id</th>\n",
       "      <th>created_at</th>\n",
       "      <th>text</th>\n",
       "      <th>retweets</th>\n",
       "      <th>favorites</th>\n",
       "    </tr>\n",
       "  </thead>\n",
       "  <tbody>\n",
       "    <tr>\n",
       "      <th>0</th>\n",
       "      <td>1057254051254013953</td>\n",
       "      <td>2018-10-30 12:53:03</td>\n",
       "      <td>“If the Fed backs off and starts talking a little more Dovish, I think we’re going to be right back to our 2,800 to 2,900 target range that we’ve had for the S&amp;amp;P 500.” Scott Wren, Wells Fargo.</td>\n",
       "      <td>3854.0</td>\n",
       "      <td>13636.0</td>\n",
       "    </tr>\n",
       "    <tr>\n",
       "      <th>1</th>\n",
       "      <td>1057249169507803137</td>\n",
       "      <td>2018-10-30 12:33:39</td>\n",
       "      <td>The Stock Market is up massively since the Election, but is now taking a little pause - people want to see what happens with the Midterms. If you want your Stocks to go down, I strongly suggest voting Democrat. They like the Venezuela financial model, High Taxes &amp;amp; Open Borders!</td>\n",
       "      <td>7569.0</td>\n",
       "      <td>25503.0</td>\n",
       "    </tr>\n",
       "    <tr>\n",
       "      <th>2</th>\n",
       "      <td>1057247021919297536</td>\n",
       "      <td>2018-10-30 12:25:07</td>\n",
       "      <td>Congressman Kevin Brady of Texas is so popular in his District, and far beyond, that he doesn’t need any help - but I am giving it to him anyway. He is a great guy and the absolute “King” of Cutting Taxes. Highly respected by all, he loves his State &amp;amp; Country. Strong Endorsement!</td>\n",
       "      <td>4214.0</td>\n",
       "      <td>16375.0</td>\n",
       "    </tr>\n",
       "    <tr>\n",
       "      <th>3</th>\n",
       "      <td>1057243826899877889</td>\n",
       "      <td>2018-10-30 12:12:25</td>\n",
       "      <td>Congressman Andy Barr of Kentucky, who just had a great debate with his Nancy Pelosi run opponent, has been a winner for his State. Strong on Crime, the Border, Tax Cuts, Military, Vets and 2nd Amendment, we need Andy in D.C. He has my Strong Endorsement!</td>\n",
       "      <td>4532.0</td>\n",
       "      <td>17532.0</td>\n",
       "    </tr>\n",
       "    <tr>\n",
       "      <th>4</th>\n",
       "      <td>1057110242541080577</td>\n",
       "      <td>2018-10-30 03:21:36</td>\n",
       "      <td>.@Erik_Paulsen, @Jason2CD, \\r\\n@JimHagedornMN and @PeteStauber love our Country and the Great State of Minnesota. They are winners and always get the job done. We need them all in Congress for #MAGA. Border, Military, Vets, 2nd A. Go Vote Minnesota. They have my Strong Endorsement!</td>\n",
       "      <td>6598.0</td>\n",
       "      <td>24168.0</td>\n",
       "    </tr>\n",
       "  </tbody>\n",
       "</table>\n",
       "</div>"
      ],
      "text/plain": [
       "                    id           created_at  \\\n",
       "0  1057254051254013953  2018-10-30 12:53:03   \n",
       "1  1057249169507803137  2018-10-30 12:33:39   \n",
       "2  1057247021919297536  2018-10-30 12:25:07   \n",
       "3  1057243826899877889  2018-10-30 12:12:25   \n",
       "4  1057110242541080577  2018-10-30 03:21:36   \n",
       "\n",
       "                                                                                                                                                                                                                                                                                           text  \\\n",
       "0  “If the Fed backs off and starts talking a little more Dovish, I think we’re going to be right back to our 2,800 to 2,900 target range that we’ve had for the S&amp;P 500.” Scott Wren, Wells Fargo.                                                                                           \n",
       "1  The Stock Market is up massively since the Election, but is now taking a little pause - people want to see what happens with the Midterms. If you want your Stocks to go down, I strongly suggest voting Democrat. They like the Venezuela financial model, High Taxes &amp; Open Borders!     \n",
       "2  Congressman Kevin Brady of Texas is so popular in his District, and far beyond, that he doesn’t need any help - but I am giving it to him anyway. He is a great guy and the absolute “King” of Cutting Taxes. Highly respected by all, he loves his State &amp; Country. Strong Endorsement!   \n",
       "3  Congressman Andy Barr of Kentucky, who just had a great debate with his Nancy Pelosi run opponent, has been a winner for his State. Strong on Crime, the Border, Tax Cuts, Military, Vets and 2nd Amendment, we need Andy in D.C. He has my Strong Endorsement!                                \n",
       "4  .@Erik_Paulsen, @Jason2CD, \\r\\n@JimHagedornMN and @PeteStauber love our Country and the Great State of Minnesota. They are winners and always get the job done. We need them all in Congress for #MAGA. Border, Military, Vets, 2nd A. Go Vote Minnesota. They have my Strong Endorsement!     \n",
       "\n",
       "   retweets  favorites  \n",
       "0  3854.0    13636.0    \n",
       "1  7569.0    25503.0    \n",
       "2  4214.0    16375.0    \n",
       "3  4532.0    17532.0    \n",
       "4  6598.0    24168.0    "
      ]
     },
     "execution_count": 4,
     "metadata": {},
     "output_type": "execute_result"
    }
   ],
   "source": [
    "#load tweets\n",
    "tweets_df = pd.read_csv('trump_tweets_6000.csv', parse_dates = True)\n",
    "tweets_df.head()"
   ]
  },
  {
   "cell_type": "markdown",
   "metadata": {},
   "source": [
    "Right away, I notice that some of the tweets contain elemenst like '&amp' and '\\n'. We can clean this up quite simply..."
   ]
  },
  {
   "cell_type": "code",
   "execution_count": 25,
   "metadata": {},
   "outputs": [],
   "source": [
    "import html\n",
    "def tweet_cleaner(tweet):\n",
    "    tweet = html.unescape(tweet)\n",
    "    clean_tweet = tweet.replace('\\r','').replace('\\n','').replace('...','')\n",
    "    return clean_tweet\n",
    "\n",
    "tweets_df['text'] = tweets_df['text'].apply(tweet_cleaner)"
   ]
  },
  {
   "cell_type": "markdown",
   "metadata": {},
   "source": [
    "Now that we have 'clean' tweets. I go about extracting some simple features from these tweets, like number of characters, words, etc. While doing this I realised that sometime in November last year, Twitter introduced the 280 character linit as opposed to 140, and these features need to be scaled for them to make sense. So I created a feature called 'text_len_%' which is simply the nmber of characters/maximum allowed, at the time of the tweet. I also created a boolean for if the tweet has a html link. "
   ]
  },
  {
   "cell_type": "code",
   "execution_count": 26,
   "metadata": {},
   "outputs": [
    {
     "name": "stderr",
     "output_type": "stream",
     "text": [
      "C:\\ProgramData\\Anaconda3\\lib\\site-packages\\ipykernel_launcher.py:21: SettingWithCopyWarning: \n",
      "A value is trying to be set on a copy of a slice from a DataFrame.\n",
      "Try using .loc[row_indexer,col_indexer] = value instead\n",
      "\n",
      "See the caveats in the documentation: http://pandas.pydata.org/pandas-docs/stable/indexing.html#indexing-view-versus-copy\n",
      "C:\\ProgramData\\Anaconda3\\lib\\site-packages\\ipykernel_launcher.py:22: SettingWithCopyWarning: \n",
      "A value is trying to be set on a copy of a slice from a DataFrame.\n",
      "Try using .loc[row_indexer,col_indexer] = value instead\n",
      "\n",
      "See the caveats in the documentation: http://pandas.pydata.org/pandas-docs/stable/indexing.html#indexing-view-versus-copy\n"
     ]
    },
    {
     "data": {
      "text/html": [
       "<div>\n",
       "<style scoped>\n",
       "    .dataframe tbody tr th:only-of-type {\n",
       "        vertical-align: middle;\n",
       "    }\n",
       "\n",
       "    .dataframe tbody tr th {\n",
       "        vertical-align: top;\n",
       "    }\n",
       "\n",
       "    .dataframe thead th {\n",
       "        text-align: right;\n",
       "    }\n",
       "</style>\n",
       "<table border=\"1\" class=\"dataframe\">\n",
       "  <thead>\n",
       "    <tr style=\"text-align: right;\">\n",
       "      <th></th>\n",
       "      <th>id</th>\n",
       "      <th>created_at</th>\n",
       "      <th>text</th>\n",
       "      <th>retweets</th>\n",
       "      <th>favorites</th>\n",
       "      <th>contains_html</th>\n",
       "      <th>word_len_tweet</th>\n",
       "      <th>char_len_tweet</th>\n",
       "      <th>text_len_%</th>\n",
       "    </tr>\n",
       "  </thead>\n",
       "  <tbody>\n",
       "    <tr>\n",
       "      <th>0</th>\n",
       "      <td>1057254051254013953</td>\n",
       "      <td>2018-10-30 12:53:03</td>\n",
       "      <td>“If the Fed backs off and starts talking a little more Dovish, I think we’re going to be right back to our 2,800 to 2,900 target range that we’ve had for the S&amp;P 500.” Scott Wren, Wells Fargo.</td>\n",
       "      <td>3854.0</td>\n",
       "      <td>13636.0</td>\n",
       "      <td>0</td>\n",
       "      <td>38</td>\n",
       "      <td>192</td>\n",
       "      <td>0.617363</td>\n",
       "    </tr>\n",
       "    <tr>\n",
       "      <th>1</th>\n",
       "      <td>1057249169507803137</td>\n",
       "      <td>2018-10-30 12:33:39</td>\n",
       "      <td>The Stock Market is up massively since the Election, but is now taking a little pause - people want to see what happens with the Midterms. If you want your Stocks to go down, I strongly suggest voting Democrat. They like the Venezuela financial model, High Taxes &amp; Open Borders!</td>\n",
       "      <td>7569.0</td>\n",
       "      <td>25503.0</td>\n",
       "      <td>0</td>\n",
       "      <td>50</td>\n",
       "      <td>278</td>\n",
       "      <td>0.893891</td>\n",
       "    </tr>\n",
       "    <tr>\n",
       "      <th>2</th>\n",
       "      <td>1057247021919297536</td>\n",
       "      <td>2018-10-30 12:25:07</td>\n",
       "      <td>Congressman Kevin Brady of Texas is so popular in his District, and far beyond, that he doesn’t need any help - but I am giving it to him anyway. He is a great guy and the absolute “King” of Cutting Taxes. Highly respected by all, he loves his State &amp; Country. Strong Endorsement!</td>\n",
       "      <td>4214.0</td>\n",
       "      <td>16375.0</td>\n",
       "      <td>0</td>\n",
       "      <td>53</td>\n",
       "      <td>280</td>\n",
       "      <td>0.900322</td>\n",
       "    </tr>\n",
       "    <tr>\n",
       "      <th>3</th>\n",
       "      <td>1057243826899877889</td>\n",
       "      <td>2018-10-30 12:12:25</td>\n",
       "      <td>Congressman Andy Barr of Kentucky, who just had a great debate with his Nancy Pelosi run opponent, has been a winner for his State. Strong on Crime, the Border, Tax Cuts, Military, Vets and 2nd Amendment, we need Andy in D.C. He has my Strong Endorsement!</td>\n",
       "      <td>4532.0</td>\n",
       "      <td>17532.0</td>\n",
       "      <td>0</td>\n",
       "      <td>46</td>\n",
       "      <td>255</td>\n",
       "      <td>0.819936</td>\n",
       "    </tr>\n",
       "    <tr>\n",
       "      <th>4</th>\n",
       "      <td>1057110242541080577</td>\n",
       "      <td>2018-10-30 03:21:36</td>\n",
       "      <td>.@Erik_Paulsen, @Jason2CD, @JimHagedornMN and @PeteStauber love our Country and the Great State of Minnesota. They are winners and always get the job done. We need them all in Congress for #MAGA. Border, Military, Vets, 2nd A. Go Vote Minnesota. They have my Strong Endorsement!</td>\n",
       "      <td>6598.0</td>\n",
       "      <td>24168.0</td>\n",
       "      <td>0</td>\n",
       "      <td>44</td>\n",
       "      <td>278</td>\n",
       "      <td>0.893891</td>\n",
       "    </tr>\n",
       "  </tbody>\n",
       "</table>\n",
       "</div>"
      ],
      "text/plain": [
       "                    id           created_at  \\\n",
       "0  1057254051254013953  2018-10-30 12:53:03   \n",
       "1  1057249169507803137  2018-10-30 12:33:39   \n",
       "2  1057247021919297536  2018-10-30 12:25:07   \n",
       "3  1057243826899877889  2018-10-30 12:12:25   \n",
       "4  1057110242541080577  2018-10-30 03:21:36   \n",
       "\n",
       "                                                                                                                                                                                                                                                                                       text  \\\n",
       "0  “If the Fed backs off and starts talking a little more Dovish, I think we’re going to be right back to our 2,800 to 2,900 target range that we’ve had for the S&P 500.” Scott Wren, Wells Fargo.                                                                                           \n",
       "1  The Stock Market is up massively since the Election, but is now taking a little pause - people want to see what happens with the Midterms. If you want your Stocks to go down, I strongly suggest voting Democrat. They like the Venezuela financial model, High Taxes & Open Borders!     \n",
       "2  Congressman Kevin Brady of Texas is so popular in his District, and far beyond, that he doesn’t need any help - but I am giving it to him anyway. He is a great guy and the absolute “King” of Cutting Taxes. Highly respected by all, he loves his State & Country. Strong Endorsement!   \n",
       "3  Congressman Andy Barr of Kentucky, who just had a great debate with his Nancy Pelosi run opponent, has been a winner for his State. Strong on Crime, the Border, Tax Cuts, Military, Vets and 2nd Amendment, we need Andy in D.C. He has my Strong Endorsement!                            \n",
       "4  .@Erik_Paulsen, @Jason2CD, @JimHagedornMN and @PeteStauber love our Country and the Great State of Minnesota. They are winners and always get the job done. We need them all in Congress for #MAGA. Border, Military, Vets, 2nd A. Go Vote Minnesota. They have my Strong Endorsement!     \n",
       "\n",
       "   retweets  favorites  contains_html  word_len_tweet  char_len_tweet  \\\n",
       "0  3854.0    13636.0    0              38              192              \n",
       "1  7569.0    25503.0    0              50              278              \n",
       "2  4214.0    16375.0    0              53              280              \n",
       "3  4532.0    17532.0    0              46              255              \n",
       "4  6598.0    24168.0    0              44              278              \n",
       "\n",
       "   text_len_%  \n",
       "0  0.617363    \n",
       "1  0.893891    \n",
       "2  0.900322    \n",
       "3  0.819936    \n",
       "4  0.893891    "
      ]
     },
     "execution_count": 26,
     "metadata": {},
     "output_type": "execute_result"
    }
   ],
   "source": [
    "#create new features Word length, Char length and %max length. This takes into account the 280 character extension that Twitter implemented in Nov 2017\n",
    "def word_length(text):\n",
    "    return len(text.split())\n",
    "\n",
    "def char_length(text):\n",
    "    return len(text)\n",
    "\n",
    "#create new column with boolean of if text has html\n",
    "tweets_df['contains_html'] = [1 if'http' in text else 0 for text in tweets_df['text']]\n",
    "\n",
    "tweets_df['word_len_tweet'] = tweets_df['text'].apply(word_length)\n",
    "tweets_df['char_len_tweet'] = tweets_df['text'].apply(char_length)\n",
    "\n",
    "#split data into before extension to 280 chars and after. Create feature % of max length\n",
    "after_ext = tweets_df.iloc[:2804]\n",
    "before_ext = tweets_df.iloc[2804:]\n",
    "\n",
    "max_before_ext = max(before_ext['char_len_tweet'])\n",
    "max_after_ext = max(after_ext['char_len_tweet'])\n",
    "\n",
    "before_ext['text_len_%'] = before_ext['char_len_tweet']/max_before_ext\n",
    "after_ext['text_len_%'] = after_ext['char_len_tweet']/max_after_ext\n",
    "new_tweets_df = after_ext.append(before_ext)\n",
    "new_tweets_df.head()"
   ]
  },
  {
   "cell_type": "markdown",
   "metadata": {},
   "source": [
    "Ok, here we will begin with the actual topic modelling of the tweets. First step in any NLP project is to pre-process our text, This will include removing stop words, punctuations, converting everything to lower-case etc. spaCy is a modern NLP package that lets us do all this quite easily. Here is a nice notebook to learn more about spaCy (https://github.com/skipgram/modern-nlp-in-python/blob/master/executable/Modern_NLP_in_Python.ipynb). Their official documentation is good as well!"
   ]
  },
  {
   "cell_type": "code",
   "execution_count": 27,
   "metadata": {},
   "outputs": [],
   "source": [
    "#preprocess all tweets. Create corpus. Build LDA model. Visulaize results\n",
    "nlp = spacy.load('en_core_web_sm')\n",
    "def clean_text(text):\n",
    "    doc = nlp(text, disable=['parser', 'ner'])\n",
    "    tokens = [tok.lemma_.lower().strip() for tok in doc if tok.lemma_ != '-PRON-']\n",
    "    tokens = [tok for tok in tokens if tok not in stopwords and tok not in punctuations]\n",
    "    tokens = ' '.join(tokens)\n",
    "    return tokens"
   ]
  },
  {
   "cell_type": "code",
   "execution_count": 28,
   "metadata": {},
   "outputs": [],
   "source": [
    "new_tweets_df['processed_text'] = new_tweets_df['text'].apply(clean_text)"
   ]
  },
  {
   "cell_type": "markdown",
   "metadata": {},
   "source": [
    "Here is what text look like after its lower cased, lemmatized, stripped of punctuations and rid of stop words. This process will greatly help us reduce our corpus size and ensure that we only have meaningful vocabulary in there. "
   ]
  },
  {
   "cell_type": "code",
   "execution_count": 29,
   "metadata": {},
   "outputs": [
    {
     "data": {
      "text/html": [
       "<div>\n",
       "<style scoped>\n",
       "    .dataframe tbody tr th:only-of-type {\n",
       "        vertical-align: middle;\n",
       "    }\n",
       "\n",
       "    .dataframe tbody tr th {\n",
       "        vertical-align: top;\n",
       "    }\n",
       "\n",
       "    .dataframe thead th {\n",
       "        text-align: right;\n",
       "    }\n",
       "</style>\n",
       "<table border=\"1\" class=\"dataframe\">\n",
       "  <thead>\n",
       "    <tr style=\"text-align: right;\">\n",
       "      <th></th>\n",
       "      <th>text</th>\n",
       "      <th>processed_text</th>\n",
       "    </tr>\n",
       "  </thead>\n",
       "  <tbody>\n",
       "    <tr>\n",
       "      <th>0</th>\n",
       "      <td>“If the Fed backs off and starts talking a little more Dovish, I think we’re going to be right back to our 2,800 to 2,900 target range that we’ve had for the S&amp;P 500.” Scott Wren, Wells Fargo.</td>\n",
       "      <td>fed back start talk little dovish think go right back 2,800 2,900 target range s&amp;p 500 scott wren wells fargo</td>\n",
       "    </tr>\n",
       "    <tr>\n",
       "      <th>1</th>\n",
       "      <td>The Stock Market is up massively since the Election, but is now taking a little pause - people want to see what happens with the Midterms. If you want your Stocks to go down, I strongly suggest voting Democrat. They like the Venezuela financial model, High Taxes &amp; Open Borders!</td>\n",
       "      <td>stock market massively since election take little pause people want see happen midterms want stock go strongly suggest vote democrat like venezuela financial model high taxes open borders</td>\n",
       "    </tr>\n",
       "    <tr>\n",
       "      <th>2</th>\n",
       "      <td>Congressman Kevin Brady of Texas is so popular in his District, and far beyond, that he doesn’t need any help - but I am giving it to him anyway. He is a great guy and the absolute “King” of Cutting Taxes. Highly respected by all, he loves his State &amp; Country. Strong Endorsement!</td>\n",
       "      <td>congressman kevin brady texas popular district far beyond need help give anyway great guy absolute king cut taxes highly respect love state country strong endorsement</td>\n",
       "    </tr>\n",
       "    <tr>\n",
       "      <th>3</th>\n",
       "      <td>Congressman Andy Barr of Kentucky, who just had a great debate with his Nancy Pelosi run opponent, has been a winner for his State. Strong on Crime, the Border, Tax Cuts, Military, Vets and 2nd Amendment, we need Andy in D.C. He has my Strong Endorsement!</td>\n",
       "      <td>congressman andy barr kentucky great debate nancy pelosi run opponent winner state strong crime border tax cuts military vets 2nd amendment need andy d.c. strong endorsement</td>\n",
       "    </tr>\n",
       "    <tr>\n",
       "      <th>4</th>\n",
       "      <td>.@Erik_Paulsen, @Jason2CD, @JimHagedornMN and @PeteStauber love our Country and the Great State of Minnesota. They are winners and always get the job done. We need them all in Congress for #MAGA. Border, Military, Vets, 2nd A. Go Vote Minnesota. They have my Strong Endorsement!</td>\n",
       "      <td>.@erik_paulsen @jason2cd @jimhagedornmn @petestauber love country great state minnesota winner always get job need congress maga border military vets 2nd a. go vote minnesota strong endorsement</td>\n",
       "    </tr>\n",
       "  </tbody>\n",
       "</table>\n",
       "</div>"
      ],
      "text/plain": [
       "                                                                                                                                                                                                                                                                                       text  \\\n",
       "0  “If the Fed backs off and starts talking a little more Dovish, I think we’re going to be right back to our 2,800 to 2,900 target range that we’ve had for the S&P 500.” Scott Wren, Wells Fargo.                                                                                           \n",
       "1  The Stock Market is up massively since the Election, but is now taking a little pause - people want to see what happens with the Midterms. If you want your Stocks to go down, I strongly suggest voting Democrat. They like the Venezuela financial model, High Taxes & Open Borders!     \n",
       "2  Congressman Kevin Brady of Texas is so popular in his District, and far beyond, that he doesn’t need any help - but I am giving it to him anyway. He is a great guy and the absolute “King” of Cutting Taxes. Highly respected by all, he loves his State & Country. Strong Endorsement!   \n",
       "3  Congressman Andy Barr of Kentucky, who just had a great debate with his Nancy Pelosi run opponent, has been a winner for his State. Strong on Crime, the Border, Tax Cuts, Military, Vets and 2nd Amendment, we need Andy in D.C. He has my Strong Endorsement!                            \n",
       "4  .@Erik_Paulsen, @Jason2CD, @JimHagedornMN and @PeteStauber love our Country and the Great State of Minnesota. They are winners and always get the job done. We need them all in Congress for #MAGA. Border, Military, Vets, 2nd A. Go Vote Minnesota. They have my Strong Endorsement!     \n",
       "\n",
       "                                                                                                                                                                                      processed_text  \n",
       "0  fed back start talk little dovish think go right back 2,800 2,900 target range s&p 500 scott wren wells fargo                                                                                      \n",
       "1  stock market massively since election take little pause people want see happen midterms want stock go strongly suggest vote democrat like venezuela financial model high taxes open borders        \n",
       "2  congressman kevin brady texas popular district far beyond need help give anyway great guy absolute king cut taxes highly respect love state country strong endorsement                             \n",
       "3  congressman andy barr kentucky great debate nancy pelosi run opponent winner state strong crime border tax cuts military vets 2nd amendment need andy d.c. strong endorsement                      \n",
       "4  .@erik_paulsen @jason2cd @jimhagedornmn @petestauber love country great state minnesota winner always get job need congress maga border military vets 2nd a. go vote minnesota strong endorsement  "
      ]
     },
     "execution_count": 29,
     "metadata": {},
     "output_type": "execute_result"
    }
   ],
   "source": [
    "new_tweets_df[['text', 'processed_text']].head()"
   ]
  },
  {
   "cell_type": "markdown",
   "metadata": {},
   "source": [
    "In the following are a few helper functions that will help us tokenize our text and create bigrams, trigrams and qgrams. This helps us pick up entities that belong together. You want your model to understand 'Failing New York Times' as a single entity as opposed to seperate entities of 'Failing', 'New', 'York' and 'Times' (also think: 'Make Americal Great Again'.) "
   ]
  },
  {
   "cell_type": "code",
   "execution_count": 30,
   "metadata": {},
   "outputs": [],
   "source": [
    "def tokenizer_2(text_list):\n",
    "    '''\n",
    "    This is the faster tokenizer. Default to this. \n",
    "    '''\n",
    "    sent_stream = []\n",
    "    translator = str.maketrans('', '', string.punctuation)\n",
    "    print ('tokenizing text...')\n",
    "#    for content in text_list:\n",
    "    for content in tqdm(text_list):\n",
    "        sent_tokenize_list = sent_tokenize(content)\n",
    "        for sent in sent_tokenize_list:\n",
    "            sent_no_punct = sent.translate(translator)\n",
    "            sent_no_space = \" \".join(sent_no_punct.split())\n",
    "            word_tokens = word_tokenize(sent_no_space)\n",
    "            sent_stream.append(word_tokens)\n",
    "    return sent_stream \n",
    "\n",
    "def qgram_creator(sent_stream):\n",
    "    '''\n",
    "    accepts a list of sentences and returns a list with meaningfully combined words. Comment out the model saving lines when working with individual mails\n",
    "    '''\n",
    "    print('creating trigrams...')\n",
    "    b_phrases = Phrases(sent_stream)\n",
    "    b_phrases.save('bigram_model_all')\n",
    "    bigram = Phraser(b_phrases)\n",
    "    bigram_text = []\n",
    "    for sent in tqdm(sent_stream):\n",
    "        b_text = bigram[sent]\n",
    "        bigram_text.append(b_text)\n",
    "\n",
    "    t_phrases = Phrases(bigram_text)\n",
    "    t_phrases.save('trigram_model_all')\n",
    "    trigram = Phraser(t_phrases)\n",
    "    trigram_text = []\n",
    "    for sent in tqdm(bigram_text):\n",
    "        t_text = trigram[sent]\n",
    "        trigram_text.append(t_text)\n",
    "        \n",
    "    q_phrases = Phrases(trigram_text)\n",
    "    q_phrases.save('qgram_model_all')\n",
    "    qgram = Phraser(q_phrases)\n",
    "    qgram_text = []\n",
    "    for sent in tqdm(trigram_text):\n",
    "        q_text = qgram[sent]\n",
    "        qgram_text.append(q_text)\n",
    "    return qgram_text\n",
    "\n",
    "def text_cleaner(sent_tokens):\n",
    "    '''\n",
    "    This cleans up the sentence tokens of symbols and stopwords\n",
    "    '''\n",
    "    print('cleaning text...')\n",
    "    trigram_clean = []\n",
    "    for text in tqdm(sent_tokens):\n",
    "        text = [term for term in text if term not in stopwords]\n",
    "        trigram_clean.append(text)\n",
    "    return trigram_clean"
   ]
  },
  {
   "cell_type": "code",
   "execution_count": 31,
   "metadata": {},
   "outputs": [
    {
     "name": "stdout",
     "output_type": "stream",
     "text": [
      "tokenizing text...\n"
     ]
    },
    {
     "name": "stderr",
     "output_type": "stream",
     "text": [
      "100%|██████████| 5403/5403 [00:01<00:00, 4246.97it/s]\n"
     ]
    }
   ],
   "source": [
    "tokenized_text = tokenizer_2(new_tweets_df['processed_text'])"
   ]
  },
  {
   "cell_type": "code",
   "execution_count": 32,
   "metadata": {},
   "outputs": [
    {
     "data": {
      "text/plain": [
       "['fed',\n",
       " 'back',\n",
       " 'start',\n",
       " 'talk',\n",
       " 'little',\n",
       " 'dovish',\n",
       " 'think',\n",
       " 'go',\n",
       " 'right',\n",
       " 'back',\n",
       " '2800',\n",
       " '2900',\n",
       " 'target',\n",
       " 'range',\n",
       " 'sp',\n",
       " '500',\n",
       " 'scott',\n",
       " 'wren',\n",
       " 'wells',\n",
       " 'fargo']"
      ]
     },
     "execution_count": 32,
     "metadata": {},
     "output_type": "execute_result"
    }
   ],
   "source": [
    "tokenized_text[0]"
   ]
  },
  {
   "cell_type": "code",
   "execution_count": 33,
   "metadata": {},
   "outputs": [
    {
     "name": "stdout",
     "output_type": "stream",
     "text": [
      "creating trigrams...\n"
     ]
    },
    {
     "name": "stderr",
     "output_type": "stream",
     "text": [
      "100%|██████████| 5606/5606 [00:00<00:00, 24437.65it/s]\n",
      "100%|██████████| 5606/5606 [00:00<00:00, 26123.01it/s]\n",
      "100%|██████████| 5606/5606 [00:00<00:00, 24849.29it/s]\n"
     ]
    }
   ],
   "source": [
    "qgrammed_text = qgram_creator(tokenized_text)"
   ]
  },
  {
   "cell_type": "code",
   "execution_count": 34,
   "metadata": {},
   "outputs": [],
   "source": [
    "#clean_trigrams = text_cleaner(trigrammed_text)"
   ]
  },
  {
   "cell_type": "markdown",
   "metadata": {},
   "source": [
    "We see that stock_market and open_borders have been picked up as single entities by our model. That is good!"
   ]
  },
  {
   "cell_type": "code",
   "execution_count": 35,
   "metadata": {},
   "outputs": [
    {
     "data": {
      "text/plain": [
       "['stock_market',\n",
       " 'massively',\n",
       " 'since_election',\n",
       " 'take',\n",
       " 'little',\n",
       " 'pause',\n",
       " 'people',\n",
       " 'want',\n",
       " 'see',\n",
       " 'happen',\n",
       " 'midterms',\n",
       " 'want',\n",
       " 'stock',\n",
       " 'go',\n",
       " 'strongly',\n",
       " 'suggest',\n",
       " 'vote',\n",
       " 'democrat',\n",
       " 'like',\n",
       " 'venezuela',\n",
       " 'financial',\n",
       " 'model',\n",
       " 'high',\n",
       " 'taxes',\n",
       " 'open_borders']"
      ]
     },
     "execution_count": 35,
     "metadata": {},
     "output_type": "execute_result"
    }
   ],
   "source": [
    "qgrammed_text[1]"
   ]
  },
  {
   "cell_type": "markdown",
   "metadata": {},
   "source": [
    "We will now create our corpus from all the tweets that we can feed into the LDA model and visulaise the different topics"
   ]
  },
  {
   "cell_type": "code",
   "execution_count": 36,
   "metadata": {},
   "outputs": [],
   "source": [
    "def corpus_creator(clean_text):\n",
    "    trigram_dict = Dictionary(clean_text)\n",
    "    print('creating corpus...')\n",
    "    trigram_dict.filter_extremes(no_below = 10, no_above = 0.3)\n",
    "    corpus = [trigram_dict.doc2bow(sent) for sent in clean_text]\n",
    "    return trigram_dict, corpus"
   ]
  },
  {
   "cell_type": "code",
   "execution_count": 38,
   "metadata": {},
   "outputs": [
    {
     "name": "stdout",
     "output_type": "stream",
     "text": [
      "creating corpus...\n",
      "building lda model\n",
      "creating lda visualization\n"
     ]
    },
    {
     "name": "stderr",
     "output_type": "stream",
     "text": [
      "C:\\ProgramData\\Anaconda3\\lib\\site-packages\\pyLDAvis\\_prepare.py:257: FutureWarning: Sorting because non-concatenation axis is not aligned. A future version\n",
      "of pandas will change to not sort by default.\n",
      "\n",
      "To accept the future behavior, pass 'sort=False'.\n",
      "\n",
      "To retain the current behavior and silence the warning, pass 'sort=True'.\n",
      "\n",
      "  return pd.concat([default_term_info] + list(topic_dfs))\n"
     ]
    },
    {
     "data": {
      "text/html": [
       "\n",
       "<link rel=\"stylesheet\" type=\"text/css\" href=\"https://cdn.rawgit.com/bmabey/pyLDAvis/files/ldavis.v1.0.0.css\">\n",
       "\n",
       "\n",
       "<div id=\"ldavis_el121323000148325454160214\"></div>\n",
       "<script type=\"text/javascript\">\n",
       "\n",
       "var ldavis_el121323000148325454160214_data = {\"mdsDat\": {\"x\": [-0.03168173833358978, -0.04763475954831367, -0.005835509310608321, -0.08571905364153166, 0.042474889348022384, 0.128396171486021], \"y\": [0.08171380961257725, -0.00386232592784928, -0.07779797588492972, 0.02521351614055414, -0.08561710734726673, 0.06035008340691434], \"topics\": [1, 2, 3, 4, 5, 6], \"cluster\": [1, 1, 1, 1, 1, 1], \"Freq\": [20.048931121826172, 19.878828048706055, 16.351505279541016, 15.758317947387695, 15.408283233642578, 12.554132461547852]}, \"tinfo\": {\"Category\": [\"Default\", \"Default\", \"Default\", \"Default\", \"Default\", \"Default\", \"Default\", \"Default\", \"Default\", \"Default\", \"Default\", \"Default\", \"Default\", \"Default\", \"Default\", \"Default\", \"Default\", \"Default\", \"Default\", \"Default\", \"Default\", \"Default\", \"Default\", \"Default\", \"Default\", \"Default\", \"Default\", \"Default\", \"Default\", \"Default\", \"Topic1\", \"Topic1\", \"Topic1\", \"Topic1\", \"Topic1\", \"Topic1\", \"Topic1\", \"Topic1\", \"Topic1\", \"Topic1\", \"Topic1\", \"Topic1\", \"Topic1\", \"Topic1\", \"Topic1\", \"Topic1\", \"Topic1\", \"Topic1\", \"Topic1\", \"Topic1\", \"Topic1\", \"Topic1\", \"Topic1\", \"Topic1\", \"Topic1\", \"Topic1\", \"Topic1\", \"Topic1\", \"Topic1\", \"Topic1\", \"Topic1\", \"Topic1\", \"Topic1\", \"Topic1\", \"Topic1\", \"Topic1\", \"Topic1\", \"Topic1\", \"Topic1\", \"Topic1\", \"Topic1\", \"Topic1\", \"Topic1\", \"Topic1\", \"Topic1\", \"Topic1\", \"Topic1\", \"Topic1\", \"Topic1\", \"Topic1\", \"Topic1\", \"Topic1\", \"Topic1\", \"Topic1\", \"Topic1\", \"Topic1\", \"Topic1\", \"Topic1\", \"Topic1\", \"Topic1\", \"Topic1\", \"Topic1\", \"Topic1\", \"Topic1\", \"Topic1\", \"Topic1\", \"Topic1\", \"Topic1\", \"Topic1\", \"Topic2\", \"Topic2\", \"Topic2\", \"Topic2\", \"Topic2\", \"Topic2\", \"Topic2\", \"Topic2\", \"Topic2\", \"Topic2\", \"Topic2\", \"Topic2\", \"Topic2\", \"Topic2\", \"Topic2\", \"Topic2\", \"Topic2\", \"Topic2\", \"Topic2\", \"Topic2\", \"Topic2\", \"Topic2\", \"Topic2\", \"Topic2\", \"Topic2\", \"Topic2\", \"Topic2\", \"Topic2\", \"Topic2\", \"Topic2\", \"Topic2\", \"Topic2\", \"Topic2\", \"Topic2\", \"Topic2\", \"Topic2\", \"Topic2\", \"Topic2\", \"Topic2\", \"Topic2\", \"Topic2\", \"Topic2\", \"Topic2\", \"Topic2\", \"Topic2\", \"Topic2\", \"Topic2\", \"Topic2\", \"Topic2\", \"Topic2\", \"Topic2\", \"Topic2\", \"Topic2\", \"Topic2\", \"Topic2\", \"Topic2\", \"Topic2\", \"Topic2\", \"Topic2\", \"Topic2\", \"Topic2\", \"Topic2\", \"Topic2\", \"Topic2\", \"Topic3\", \"Topic3\", \"Topic3\", \"Topic3\", \"Topic3\", \"Topic3\", \"Topic3\", \"Topic3\", \"Topic3\", \"Topic3\", \"Topic3\", \"Topic3\", \"Topic3\", \"Topic3\", \"Topic3\", \"Topic3\", \"Topic3\", \"Topic3\", \"Topic3\", \"Topic3\", \"Topic3\", \"Topic3\", \"Topic3\", \"Topic3\", \"Topic3\", \"Topic3\", \"Topic3\", \"Topic3\", \"Topic3\", \"Topic3\", \"Topic3\", \"Topic3\", \"Topic3\", \"Topic3\", \"Topic3\", \"Topic3\", \"Topic3\", \"Topic3\", \"Topic3\", \"Topic3\", \"Topic3\", \"Topic3\", \"Topic3\", \"Topic3\", \"Topic3\", \"Topic3\", \"Topic3\", \"Topic3\", \"Topic3\", \"Topic3\", \"Topic3\", \"Topic3\", \"Topic3\", \"Topic3\", \"Topic3\", \"Topic3\", \"Topic3\", \"Topic3\", \"Topic3\", \"Topic3\", \"Topic3\", \"Topic3\", \"Topic3\", \"Topic3\", \"Topic3\", \"Topic3\", \"Topic3\", \"Topic3\", \"Topic4\", \"Topic4\", \"Topic4\", \"Topic4\", \"Topic4\", \"Topic4\", \"Topic4\", \"Topic4\", \"Topic4\", \"Topic4\", \"Topic4\", \"Topic4\", \"Topic4\", \"Topic4\", \"Topic4\", \"Topic4\", \"Topic4\", \"Topic4\", \"Topic4\", \"Topic4\", \"Topic4\", \"Topic4\", \"Topic4\", \"Topic4\", \"Topic4\", \"Topic4\", \"Topic4\", \"Topic4\", \"Topic4\", \"Topic4\", \"Topic4\", \"Topic4\", \"Topic4\", \"Topic4\", \"Topic4\", \"Topic4\", \"Topic4\", \"Topic4\", \"Topic4\", \"Topic4\", \"Topic4\", \"Topic4\", \"Topic4\", \"Topic4\", \"Topic4\", \"Topic4\", \"Topic4\", \"Topic4\", \"Topic4\", \"Topic4\", \"Topic4\", \"Topic4\", \"Topic4\", \"Topic4\", \"Topic4\", \"Topic4\", \"Topic4\", \"Topic4\", \"Topic4\", \"Topic4\", \"Topic4\", \"Topic4\", \"Topic4\", \"Topic4\", \"Topic4\", \"Topic4\", \"Topic5\", \"Topic5\", \"Topic5\", \"Topic5\", \"Topic5\", \"Topic5\", \"Topic5\", \"Topic5\", \"Topic5\", \"Topic5\", \"Topic5\", \"Topic5\", \"Topic5\", \"Topic5\", \"Topic5\", \"Topic5\", \"Topic5\", \"Topic5\", \"Topic5\", \"Topic5\", \"Topic5\", \"Topic5\", \"Topic5\", \"Topic5\", \"Topic5\", \"Topic5\", \"Topic5\", \"Topic5\", \"Topic5\", \"Topic5\", \"Topic5\", \"Topic5\", \"Topic5\", \"Topic5\", \"Topic5\", \"Topic5\", \"Topic5\", \"Topic5\", \"Topic5\", \"Topic5\", \"Topic5\", \"Topic5\", \"Topic5\", \"Topic5\", \"Topic5\", \"Topic5\", \"Topic5\", \"Topic5\", \"Topic5\", \"Topic5\", \"Topic5\", \"Topic5\", \"Topic5\", \"Topic5\", \"Topic5\", \"Topic5\", \"Topic5\", \"Topic5\", \"Topic5\", \"Topic5\", \"Topic5\", \"Topic5\", \"Topic5\", \"Topic5\", \"Topic5\", \"Topic5\", \"Topic5\", \"Topic5\", \"Topic6\", \"Topic6\", \"Topic6\", \"Topic6\", \"Topic6\", \"Topic6\", \"Topic6\", \"Topic6\", \"Topic6\", \"Topic6\", \"Topic6\", \"Topic6\", \"Topic6\", \"Topic6\", \"Topic6\", \"Topic6\", \"Topic6\", \"Topic6\", \"Topic6\", \"Topic6\", \"Topic6\", \"Topic6\", \"Topic6\", \"Topic6\", \"Topic6\", \"Topic6\", \"Topic6\", \"Topic6\", \"Topic6\", \"Topic6\", \"Topic6\", \"Topic6\", \"Topic6\", \"Topic6\", \"Topic6\", \"Topic6\", \"Topic6\", \"Topic6\", \"Topic6\", \"Topic6\", \"Topic6\", \"Topic6\", \"Topic6\", \"Topic6\", \"Topic6\", \"Topic6\", \"Topic6\", \"Topic6\", \"Topic6\", \"Topic6\", \"Topic6\", \"Topic6\", \"Topic6\", \"Topic6\", \"Topic6\", \"Topic6\", \"Topic6\", \"Topic6\", \"Topic6\", \"Topic6\", \"Topic6\", \"Topic6\", \"Topic6\", \"Topic6\", \"Topic6\", \"Topic6\"], \"Freq\": [539.0, 101.0, 117.0, 218.0, 130.0, 59.0, 183.0, 116.0, 114.0, 312.0, 109.0, 46.0, 408.0, 807.0, 64.0, 83.0, 123.0, 520.0, 318.0, 118.0, 233.0, 66.0, 150.0, 168.0, 49.0, 37.0, 237.0, 49.0, 91.0, 118.0, 23.616811752319336, 22.518943786621094, 21.416797637939453, 23.778228759765625, 20.47103500366211, 26.068222045898438, 12.120680809020996, 12.944929122924805, 13.943509101867676, 22.450788497924805, 18.34615707397461, 16.727375030517578, 13.198492050170898, 30.87118148803711, 19.834218978881836, 11.919756889343262, 14.146865844726562, 14.97732925415039, 20.181598663330078, 10.394011497497559, 21.03306007385254, 11.059260368347168, 14.140081405639648, 21.091337203979492, 16.329816818237305, 27.434993743896484, 6.661758899688721, 13.354768753051758, 13.058700561523438, 6.194370269775391, 53.197288513183594, 87.6039047241211, 146.0523681640625, 37.666412353515625, 129.66004943847656, 68.41321563720703, 140.04310607910156, 42.0685920715332, 108.91275787353516, 250.39463806152344, 29.913372039794922, 40.12761306762695, 151.30494689941406, 81.2595443725586, 27.173002243041992, 41.39387130737305, 30.604578018188477, 83.94876861572266, 57.99044418334961, 90.56599426269531, 54.623313903808594, 94.8046875, 70.62860870361328, 63.8199348449707, 56.987483978271484, 51.825927734375, 56.915706634521484, 86.52439880371094, 51.45334243774414, 61.3289680480957, 36.76026153564453, 46.979713439941406, 67.95450592041016, 41.9310302734375, 49.82206344604492, 43.43532943725586, 43.06156539916992, 46.215354919433594, 42.930023193359375, 22.783092498779297, 22.372997283935547, 19.124683380126953, 18.725357055664062, 14.930994987487793, 14.711898803710938, 13.587677955627441, 13.190958023071289, 17.59856605529785, 19.751182556152344, 9.165160179138184, 16.062620162963867, 33.896236419677734, 18.41664695739746, 21.881139755249023, 10.28985595703125, 10.700757026672363, 21.92745590209961, 9.836872100830078, 9.755099296569824, 18.465951919555664, 17.241302490234375, 17.989479064941406, 15.76727294921875, 10.383269309997559, 8.709366798400879, 9.510141372680664, 12.72521686553955, 12.877862930297852, 8.534235000610352, 12.795063018798828, 65.2113037109375, 122.99419403076172, 80.95016479492188, 61.28400421142578, 66.69893646240234, 62.54927444458008, 54.92800521850586, 97.95853424072266, 66.34101104736328, 82.73641204833984, 39.546531677246094, 237.64051818847656, 91.91390228271484, 61.373626708984375, 42.89282989501953, 41.09518814086914, 105.12857055664062, 98.82062530517578, 107.87639617919922, 91.80619049072266, 72.4706039428711, 67.10283660888672, 79.3615951538086, 97.632568359375, 56.55980682373047, 61.413536071777344, 53.99154281616211, 57.606746673583984, 40.64838790893555, 42.830596923828125, 54.858802795410156, 46.96879959106445, 42.60471725463867, 100.13701629638672, 36.967342376708984, 26.955976486206055, 26.37151527404785, 21.32520866394043, 17.8343448638916, 17.804040908813477, 16.171846389770508, 15.003880500793457, 14.321495056152344, 13.497422218322754, 14.163558006286621, 10.315910339355469, 16.774120330810547, 13.268574714660645, 12.274686813354492, 11.122710227966309, 11.714397430419922, 23.388134002685547, 15.722090721130371, 13.829293251037598, 12.164971351623535, 8.174535751342773, 11.226785659790039, 16.19952392578125, 10.761914253234863, 11.692259788513184, 9.007326126098633, 14.184867858886719, 24.987403869628906, 14.507661819458008, 24.474241256713867, 29.247087478637695, 57.86574935913086, 44.58954620361328, 23.994365692138672, 22.01327133178711, 49.55503463745117, 146.3948516845703, 34.40451431274414, 91.55955505371094, 25.731582641601562, 32.33763122558594, 52.10718536376953, 40.818092346191406, 117.30609893798828, 46.86774444580078, 49.41000747680664, 49.5118293762207, 34.75396728515625, 39.03169250488281, 37.411376953125, 29.174142837524414, 55.18882369995117, 45.698307037353516, 45.92036056518555, 41.40433120727539, 56.199031829833984, 48.40275955200195, 36.02982711791992, 52.098514556884766, 37.56603240966797, 42.247589111328125, 39.41364288330078, 37.66238021850586, 34.99359130859375, 36.667171478271484, 35.04215621948242, 58.1365852355957, 45.309043884277344, 31.89679527282715, 22.743038177490234, 16.50565528869629, 15.655396461486816, 15.076422691345215, 14.82065200805664, 19.74111557006836, 16.366348266601562, 12.35081672668457, 19.048131942749023, 9.278647422790527, 12.110488891601562, 33.0507698059082, 13.157554626464844, 8.25209903717041, 18.375205993652344, 12.430298805236816, 10.406451225280762, 26.102325439453125, 12.824583053588867, 9.904377937316895, 14.628947257995605, 38.82671356201172, 10.43846321105957, 9.276190757751465, 21.85315704345703, 11.979451179504395, 9.712943077087402, 11.388849258422852, 77.25813293457031, 68.23551177978516, 21.920339584350586, 20.52372169494629, 34.3282470703125, 24.58895492553711, 28.0623836517334, 70.55526733398438, 122.01522064208984, 36.56388854980469, 106.28863525390625, 49.781097412109375, 41.28358459472656, 39.33408737182617, 112.74235534667969, 34.22788619995117, 88.24054718017578, 46.067893981933594, 35.1385498046875, 50.08757019042969, 65.03594207763672, 35.43556594848633, 50.79679489135742, 29.25160789489746, 48.45368194580078, 45.372859954833984, 52.707908630371094, 45.20293045043945, 36.548770904541016, 42.735389709472656, 37.85944747924805, 37.475677490234375, 38.408599853515625, 37.310665130615234, 35.21548843383789, 22.477283477783203, 19.602766036987305, 18.543861389160156, 17.299400329589844, 17.617551803588867, 24.304136276245117, 13.199599266052246, 9.80070686340332, 8.915642738342285, 18.768661499023438, 10.52365493774414, 18.135568618774414, 8.871585845947266, 17.34662628173828, 9.74338150024414, 12.725539207458496, 14.317180633544922, 9.999369621276855, 7.935148239135742, 11.178410530090332, 9.218186378479004, 49.23860549926758, 8.912932395935059, 18.256052017211914, 6.199610233306885, 9.683734893798828, 7.418941974639893, 7.125092029571533, 9.943732261657715, 10.040045738220215, 25.52250862121582, 22.290000915527344, 35.80269241333008, 39.09653091430664, 44.29048156738281, 27.050947189331055, 45.65666580200195, 31.014009475708008, 22.076404571533203, 118.44364166259766, 31.55012321472168, 16.98717498779297, 21.092145919799805, 84.65278625488281, 51.99592208862305, 83.62693786621094, 23.67530632019043, 70.11605834960938, 97.53357696533203, 108.48898315429688, 45.525718688964844, 46.6386604309082, 44.11830139160156, 61.70301818847656, 65.39398193359375, 67.22062683105469, 41.752113342285156, 49.50687789916992, 42.43722152709961, 48.17577362060547, 50.73566436767578, 45.9978141784668, 52.76210403442383, 41.04781723022461, 35.446533203125, 32.43092346191406, 36.34869384765625, 31.987571716308594, 13.455934524536133, 17.806529998779297, 9.163065910339355, 10.300215721130371, 12.391003608703613, 6.619363784790039, 19.71894073486328, 15.923441886901855, 17.574724197387695, 12.251153945922852, 6.718250274658203, 11.37735366821289, 7.2943830490112305, 7.636105060577393, 7.2997050285339355, 5.656993389129639, 7.898576259613037, 12.254815101623535, 7.251453399658203, 19.066207885742188, 9.594273567199707, 343.6726989746094, 8.135290145874023, 30.620441436767578, 7.320211410522461, 39.39134216308594, 6.115131378173828, 5.693830490112305, 4.404551982879639, 8.727069854736328, 64.48641204833984, 71.4526596069336, 13.935712814331055, 42.41952896118164, 24.766244888305664, 22.97722816467285, 23.382158279418945, 37.53605270385742, 58.60783767700195, 15.686190605163574, 76.25898742675781, 13.762375831604004, 24.460426330566406, 84.8431167602539, 27.7286319732666, 26.847177505493164, 22.477359771728516, 89.26030731201172, 54.48416519165039, 30.020692825317383, 42.638885498046875, 45.98470687866211, 37.34080505371094, 55.366512298583984, 67.93329620361328, 29.8216609954834, 47.63491439819336, 43.71633529663086, 31.591156005859375, 33.48295211791992, 30.41175651550293, 28.24446678161621, 30.054889678955078, 26.419666290283203, 28.443601608276367, 26.675861358642578], \"Term\": [\"\\u2026\", \"draintheswamp\", \"clinton\", \"vote\", \"join\", \"httpstco\", \"fake_news\", \"make_america_great\", \"fbi\", \"today\", \"medium\", \"repeal_replace\", \"country\", \"great\", \"enjoy\", \"tomorrow\", \"healthcare\", \"thank\", \"us\", \"report\", \"time\", \"\\ud83c\\uddfa_\\ud83c\\uddf8\", \"election\", \"russia\", \"fail_nytime\", \"join_live\", \"win\", \"email\", \"happy\", \"republicans\", \"dishonest_medium\", \"whitehouse_today\", \"electoral_college\", \"r\", \"veterans\", \"air\", \"big_tax_cut\", \"massive_tax\", \"anti\", \"make_deal\", \"nominate\", \"expect\", \"raise_tax\", \"georgia\", \"oh\", \"run_congress\", \"threaten\", \"terrorist_attack\", \"health\", \"paul\", \"tennessee\", \"secure_border\", \"consumer_confidence\", \"big_win\", \"simple\", \"melania\", \"substantially\", \"8\", \"endorse\", \"modern\", \"fight\", \"healthcare\", \"vote\", \"alabama\", \"win\", \"republicans\", \"would\", \"senate\", \"want\", \"great\", \"safety\", \"democrat\", \"people\", \"democrats\", \"care\", \"life\", \"increase\", \"many\", \"way\", \"big\", \"back\", \"get\", \"good\", \"day\", \"need\", \"america\", \"must\", \"\\u2026\", \"state\", \"say\", \"remember\", \"\\u2019_s\", \"go\", \"bill\", \"country\", \"take\", \"even\", \"thank\", \"see\", \"vietnam\", \"terrorist\", \"nbcnew\", \"facebook\", \"express\", \"march\", \"k\", \"job_job\", \"chuck_schumer\", \"shooting\", \"regime\", \"biased\", \"wisconsin\", \"water\", \"republican_senator\", \"rasmussen\", \"birthday\", \"committee\", \"chuck\", \"recovery\", \"prior\", \"teacher\", \"consider\", \"get_ready\", \"g7\", \"food\", \"take_office\", \"steve\", \"steal\", \"staff\", \"complain\", \"happy\", \"fake_news\", \"report\", \"cnn\", \"medium\", \"well\", \"north_korea\", \"much\", \"talk\", \"russia\", \"news\", \"great\", \"job\", \"come\", \"totally\", \"total\", \"go\", \"get\", \"people\", \"country\", \"say\", \"bad\", \"big\", \"thank\", \"new\", \"time\", \"give\", \"would\", \"china\", \"support\", \"make\", \"year\", \"state\", \"draintheswamp\", \"join_live\", \"realdonaldtrump\", \"colorado\", \"icymi_watch\", \"friday\", \"insurance_company\", \"secret\", \"nyc\", \"minute\", \"never_forget\", \"al\", \"15\", \"four\", \"cia\", \"travel\", \"33000\", \"pledge\", \"podesta\", \"vp\", \"defense\", \"remembrance\", \"favor\", \"delete\", \"info\", \"dr\", \"director\", \"conversation\", \"spy\", \"national_security\", \"gun\", \"crowd\", \"john\", \"nothing\", \"honor\", \"service\", \"obama_administration\", \"maga\", \"thank\", \"whitehouse\", \"today\", \"hillaryclinton\", \"hillary_clinton\", \"russia\", \"florida\", \"great\", \"call\", \"s\", \"day\", \"campaign\", \"pay\", \"meeting\", \"pennsylvania\", \"make\", \"work\", \"never\", \"american\", \"get\", \"say\", \"clinton\", \"people\", \"know\", \"many\", \"us\", \"would\", \"much\", \"country\", \"big\", \"httpstco\", \"repeal_replace\", \"watch_\\u2026\", \"rapids\", \"video\", \"ally\", \"message\", \"trillion_dollar\", \"repeal\", \"thursday\", \"middle_class\", \"louisiana\", \"bonus\", \"majority\", \"tax_cut\", \"value\", \"andrew_mccabe\", \"accord\", \"see_soon\", \"tax_reform\", \"clinton_campaign\", \"unprecedented\", \"gain\", \"small_business\", \"email\", \"trillion\", \"memo\", \"server\", \"opportunity\", \"reveal\", \"rise\", \"clinton\", \"fbi\", \"welcome\", \"maga_\\ud83c\\uddfa_\\ud83c\\uddf8\", \"wall\", \"texas\", \"create\", \"work\", \"country\", \"leave\", \"go\", \"hillary\", \"change\", \"start\", \"great\", \"w\", \"thank\", \"america\", \"poll\", \"give\", \"get\", \"use\", \"job\", \"wow\", \"make\", \"want\", \"people\", \"us\", \"take\", \"big\", \"new\", \"good\", \"today\", \"trump\", \"\\u2019\", \"ban\", \"restore\", \"travel_ban\", \"voter_fraud\", \"jones\", \"ford\", \"courage\", \"monitor\", \"encourage\", \"indiana\", \"usnavy\", \"entire\", \"red\", \"strengthen\", \"deep\", \"challenge\", \"reporter\", \"highest\", \"\\u201d\", \"laugh\", \"a\", \"enjoy\", \"fill\", \"truth\", \"responsible\", \"path\", \"strong_ever\", \"fairly\", \"ms13\", \"opinion\", \"michigan\", \"leak\", \"pm\", \"woman\", \"mexico\", \"movement\", \"interview\", \"speech\", \"serve\", \"us\", \"major\", \"supreme_court\", \"billion_dollar\", \"many\", \"watch\", \"make\", \"isis\", \"trump\", \"country\", \"\\u2026\", \"american\", \"see\", \"call\", \"big\", \"go\", \"people\", \"president\", \"bad\", \"one\", \"job\", \"today\", \"say\", \"thank\", \"good\", \"look\", \"white_house\", \"must\", \"like\", \"vp_pence\", \"nfl\", \"harvey\", \"las_vegas\", \"single\", \"kneel\", \"\\u27a1_\\ufe0f_\\u2026\", \"executive_order\", \"terrorism\", \"manufacturing\", \"great_honor_host\", \"radical_islamic\", \"beg\", \"shutdown\", \"41\", \"delegation\", \"get_smart\", \"victim\", \"approval_rating\", \"coverage\", \"healthcare_plan\", \"\\u2026\", \"session\", \"fail_nytime\", \"trade_deficit\", \"\\ud83c\\uddfa_\\ud83c\\uddf8\", \"gdp\", \"joint_press_conference\", \"tuckercarlson\", \"national_anthem\", \"make_america_great\", \"join\", \"ticket\", \"tomorrow\", \"get_vote\", \"rating\", \"billion\", \"tonight\", \"election\", \"1\", \"time\", \"game\", \"stand\", \"today\", \"record\", \"ohio\", \"low\", \"thank\", \"bad\", \"story\", \"one\", \"year\", \"way\", \"go\", \"great\", \"medium\", \"get\", \"us\", \"watch\", \"new\", \"day\", \"need\", \"win\", \"obamacare\", \"job\", \"big\"], \"Total\": [539.0, 101.0, 117.0, 218.0, 130.0, 59.0, 183.0, 116.0, 114.0, 312.0, 109.0, 46.0, 408.0, 807.0, 64.0, 83.0, 123.0, 520.0, 318.0, 118.0, 233.0, 66.0, 150.0, 168.0, 49.0, 37.0, 237.0, 49.0, 91.0, 118.0, 24.5272159576416, 23.42401885986328, 22.3228759765625, 25.112228393554688, 21.861682891845703, 27.90338706970215, 13.026544570922852, 13.921646118164062, 15.233036994934082, 24.885160446166992, 20.425495147705078, 18.723405838012695, 14.924196243286133, 35.26492691040039, 22.69158172607422, 13.670729637145996, 16.297216415405273, 17.578554153442383, 23.901771545410156, 12.542437553405762, 25.45572280883789, 13.426759719848633, 17.735363006591797, 26.67818260192871, 20.77646827697754, 34.9358024597168, 8.519269943237305, 17.159814834594727, 17.516883850097656, 8.462705612182617, 73.60504913330078, 123.56114196777344, 218.37147521972656, 52.78560256958008, 237.7370147705078, 118.02151489257812, 290.5777282714844, 68.96728515625, 237.42117309570312, 807.8509521484375, 45.159759521484375, 68.43824005126953, 452.5845947265625, 198.8754119873047, 40.795684814453125, 78.8956298828125, 49.725955963134766, 270.512451171875, 150.5475311279297, 336.0840148925781, 138.6160125732422, 381.0135803222656, 224.1282196044922, 187.5371551513672, 151.85107421875, 148.4649658203125, 202.19027709960938, 539.319580078125, 163.1625518798828, 269.0833435058594, 74.21958923339844, 145.71067810058594, 412.5677795410156, 112.05735778808594, 408.4985656738281, 152.99559020996094, 163.5691375732422, 520.5057373046875, 165.18002319335938, 23.709651947021484, 23.306453704833984, 20.047883987426758, 19.659086227416992, 15.852335929870605, 15.644185066223145, 14.51008129119873, 14.115286827087402, 18.941410064697266, 21.47885513305664, 10.089852333068848, 17.855100631713867, 37.88998031616211, 20.688980102539062, 24.725719451904297, 11.930346488952637, 12.448431968688965, 25.822072982788086, 11.619741439819336, 11.557840347290039, 21.888383865356445, 20.514387130737305, 21.614206314086914, 19.170862197875977, 12.66059398651123, 10.789772987365723, 11.841621398925781, 15.919535636901855, 16.211685180664062, 10.852702140808105, 16.292259216308594, 91.43580627441406, 183.1505126953125, 118.71707916259766, 89.71572875976562, 109.51493072509766, 104.25012969970703, 96.04338073730469, 199.70870971679688, 124.97846221923828, 168.2501983642578, 69.43194580078125, 807.8509521484375, 249.83319091796875, 150.63865661621094, 89.22981262207031, 85.41545867919922, 412.5677795410156, 381.0135803222656, 452.5845947265625, 408.4985656738281, 269.0833435058594, 235.35032653808594, 336.0840148925781, 520.5057373046875, 188.1362762451172, 233.97015380859375, 188.54978942871094, 290.5777282714844, 115.4389419555664, 134.53732299804688, 279.0338134765625, 200.58670043945312, 163.1625518798828, 101.12371063232422, 37.925079345703125, 27.9472599029541, 27.4477481842041, 22.284395217895508, 18.786714553833008, 18.774677276611328, 17.123397827148438, 15.954627990722656, 15.27371883392334, 14.44820785522461, 15.323782920837402, 11.274256706237793, 18.48562240600586, 14.666608810424805, 13.675152778625488, 12.496160507202148, 13.197460174560547, 26.40334701538086, 17.826459884643555, 15.729724884033203, 14.672165870666504, 10.024855613708496, 14.191631317138672, 21.036134719848633, 14.263583183288574, 15.510852813720703, 12.257145881652832, 19.34040641784668, 34.33968734741211, 20.01805877685547, 35.9950065612793, 44.79812240600586, 101.36515045166016, 78.10250091552734, 37.037879943847656, 34.84377670288086, 107.60124206542969, 520.5057373046875, 65.15261840820312, 312.1802673339844, 46.48752212524414, 69.0156478881836, 168.2501983642578, 111.93827819824219, 807.8509521484375, 153.7887420654297, 174.43817138671875, 187.5371551513672, 93.53163146972656, 122.09764099121094, 111.31777954101562, 64.64922332763672, 279.0338134765625, 180.922607421875, 186.7463836669922, 150.41064453125, 381.0135803222656, 269.0833435058594, 117.57794189453125, 452.5845947265625, 161.78228759765625, 270.512451171875, 318.490234375, 290.5777282714844, 199.70870971679688, 408.4985656738281, 336.0840148925781, 59.050086975097656, 46.2255973815918, 32.84429168701172, 23.774471282958984, 17.413118362426758, 16.56891441345215, 15.984862327575684, 15.734342575073242, 21.131879806518555, 17.556678771972656, 13.262113571166992, 20.525333404541016, 10.18557357788086, 13.554611206054688, 37.373233795166016, 15.154036521911621, 9.61390209197998, 21.42975425720215, 14.670493125915527, 12.401698112487793, 31.192699432373047, 15.544492721557617, 12.252901077270508, 18.418561935424805, 49.17159652709961, 13.279753684997559, 11.827807426452637, 29.229427337646484, 16.057809829711914, 13.122281074523926, 15.414752006530762, 117.57794189453125, 114.227783203125, 32.138973236083984, 29.776634216308594, 58.835872650146484, 39.29946517944336, 47.54802703857422, 180.922607421875, 408.4985656738281, 74.08733367919922, 412.5677795410156, 127.53003692626953, 102.19633483886719, 100.50483703613281, 807.8509521484375, 80.1976318359375, 520.5057373046875, 148.4649658203125, 86.73844909667969, 188.54978942871094, 381.0135803222656, 103.23049926757812, 249.83319091796875, 65.47312927246094, 279.0338134765625, 237.42117309570312, 452.5845947265625, 318.490234375, 152.99559020996094, 336.0840148925781, 188.1362762451172, 224.1282196044922, 312.1802673339844, 238.76625061035156, 139.9727020263672, 23.41173553466797, 20.547882080078125, 19.49375343322754, 18.24068832397461, 18.578739166259766, 25.76298713684082, 14.134675025939941, 10.735756874084473, 9.853548049926758, 21.46661376953125, 12.194159507751465, 21.02289581298828, 10.792562484741211, 21.152387619018555, 11.935376167297363, 15.639904022216797, 17.68571662902832, 12.681615829467773, 10.114642143249512, 14.290689468383789, 11.876114845275879, 64.23036193847656, 11.675702095031738, 24.09221649169922, 8.232291221618652, 12.906929016113281, 10.034700393676758, 9.662363052368164, 13.832578659057617, 14.01921558380127, 36.21272277832031, 31.98037338256836, 52.60234832763672, 58.558719635009766, 68.38301849365234, 40.204307556152344, 72.01311492919922, 47.76881790161133, 36.20157241821289, 318.490234375, 57.779808044433594, 26.075820922851562, 35.57835006713867, 270.512451171875, 136.49685668945312, 279.0338134765625, 42.312232971191406, 238.76625061035156, 408.4985656738281, 539.319580078125, 150.41064453125, 165.18002319335938, 153.7887420654297, 336.0840148925781, 412.5677795410156, 452.5845947265625, 155.11492919921875, 235.35032653808594, 174.47579956054688, 249.83319091796875, 312.1802673339844, 269.0833435058594, 520.5057373046875, 224.1282196044922, 139.06614685058594, 101.4676513671875, 202.19027709960938, 133.00808715820312, 14.41671371459961, 19.470914840698242, 10.127317428588867, 12.38669204711914, 15.053215026855469, 8.358198165893555, 25.892026901245117, 21.07231330871582, 23.384239196777344, 18.18377113342285, 10.00367546081543, 16.948720932006836, 10.876701354980469, 11.4425630569458, 11.000409126281738, 8.644573211669922, 12.147640228271484, 18.847551345825195, 11.17445182800293, 29.448062896728516, 14.91574478149414, 539.319580078125, 13.108194351196289, 49.74406433105469, 12.29022216796875, 66.35569763183594, 10.334372520446777, 9.624985694885254, 7.465360641479492, 14.923091888427734, 116.31832885742188, 130.1795196533203, 24.29104995727539, 83.70706176757812, 46.86247634887695, 43.56465148925781, 45.057674407958984, 86.4290771484375, 150.9442138671875, 29.68587303161621, 233.97015380859375, 25.08537483215332, 55.149635314941406, 312.1802673339844, 68.80817413330078, 66.24909210205078, 52.01512908935547, 520.5057373046875, 235.35032653808594, 90.70589447021484, 174.47579956054688, 200.58670043945312, 150.5475311279297, 412.5677795410156, 807.8509521484375, 109.51493072509766, 381.0135803222656, 318.490234375, 136.49685668945312, 188.1362762451172, 187.5371551513672, 151.85107421875, 237.7370147705078, 108.56582641601562, 249.83319091796875, 336.0840148925781], \"loglift\": [30.0, 29.0, 28.0, 27.0, 26.0, 25.0, 24.0, 23.0, 22.0, 21.0, 20.0, 19.0, 18.0, 17.0, 16.0, 15.0, 14.0, 13.0, 12.0, 11.0, 10.0, 9.0, 8.0, 7.0, 6.0, 5.0, 4.0, 3.0, 2.0, 1.0, 1.569200038909912, 1.5676000118255615, 1.565600037574768, 1.55239999294281, 1.5413000583648682, 1.5390000343322754, 1.5348999500274658, 1.5342999696731567, 1.5184999704360962, 1.503999948501587, 1.4996000528335571, 1.4943000078201294, 1.4840999841690063, 1.4738999605178833, 1.4723999500274658, 1.4699000120162964, 1.465499997138977, 1.4469000101089478, 1.4378000497817993, 1.419100046157837, 1.416100025177002, 1.4129999876022339, 1.3803999423980713, 1.371999979019165, 1.3661999702453613, 1.3653000593185425, 1.3609999418258667, 1.3562999963760376, 1.3133000135421753, 1.2949999570846558, 1.2822999954223633, 1.263100028038025, 1.204800009727478, 1.2695000171661377, 1.0006999969482422, 1.0616999864578247, 0.8770999908447266, 1.1126999855041504, 0.8277000188827515, 0.435699999332428, 1.195099949836731, 1.073099970817566, 0.5113000273704529, 0.7120000123977661, 1.200600028038025, 0.9620000123977661, 1.1216000318527222, 0.43689998984336853, 0.652999997138977, 0.2957000136375427, 0.6757000088691711, 0.2160000056028366, 0.4521999955177307, 0.5291000008583069, 0.6269000172615051, 0.5544999837875366, 0.3393999934196472, -0.22290000319480896, 0.4528999924659729, 0.1281999945640564, 0.9043999910354614, 0.47510001063346863, -0.19660000503063202, 0.6240000128746033, -0.4970000088214874, 0.34790000319480896, 0.27239999175071716, -0.8144999742507935, 0.25949999690055847, 1.575700044631958, 1.5745999813079834, 1.5684000253677368, 1.5669000148773193, 1.5556000471115112, 1.5541000366210938, 1.5498000383377075, 1.5477999448776245, 1.5420000553131104, 1.5317000150680542, 1.5194000005722046, 1.5096999406814575, 1.50409996509552, 1.4991999864578247, 1.493299961090088, 1.4675999879837036, 1.4642000198364258, 1.4520000219345093, 1.4488999843597412, 1.4458999633789062, 1.4455000162124634, 1.4416999816894531, 1.4320000410079956, 1.4200999736785889, 1.417199969291687, 1.4012999534606934, 1.396299958229065, 1.3916000127792358, 1.3853000402450562, 1.3752000331878662, 1.373900055885315, 1.277500033378601, 1.2173000574111938, 1.2325999736785889, 1.2344000339508057, 1.1196000576019287, 1.104699969291687, 1.0566999912261963, 0.9031999707221985, 0.982200026512146, 0.9057000279426575, 1.0526000261306763, 0.3919000029563904, 0.6155999898910522, 0.7175999879837036, 0.8830000162124634, 0.883899986743927, 0.2483000010251999, 0.26600000262260437, 0.18150000274181366, 0.12269999831914902, 0.3037000000476837, 0.36070001125335693, 0.17219999432563782, -0.05810000002384186, 0.41359999775886536, 0.27799999713897705, 0.36500000953674316, -0.0027000000700354576, 0.5716999769210815, 0.4708999991416931, -0.011099999770522118, 0.16380000114440918, 0.2727000117301941, 1.8009999990463257, 1.7853000164031982, 1.7747000455856323, 1.770900011062622, 1.7668999433517456, 1.7588000297546387, 1.7577999830245972, 1.7537000179290771, 1.749400019645691, 1.746500015258789, 1.742799997329712, 1.732100009918213, 1.722000002861023, 1.7137000560760498, 1.7107000350952148, 1.7028000354766846, 1.6943999528884888, 1.69159996509552, 1.6895999908447266, 1.6851999759674072, 1.6821000576019287, 1.6234999895095825, 1.6067999601364136, 1.5765000581741333, 1.5496000051498413, 1.5291999578475952, 1.5282000303268433, 1.5027999877929688, 1.5008000135421753, 1.492900013923645, 1.4888999462127686, 1.4250999689102173, 1.3845000267028809, 1.2502000331878662, 1.2503000497817993, 1.3767000436782837, 1.3516000509262085, 1.0355000495910645, 0.5424000024795532, 1.1722999811172485, 0.5842999815940857, 1.2194000482559204, 1.0527000427246094, 0.638700008392334, 0.8019999861717224, -0.11869999766349792, 0.6226000189781189, 0.5493999719619751, 0.47909998893737793, 0.8208000063896179, 0.6704000234603882, 0.7203999757766724, 1.0152000188827515, 0.19030000269412994, 0.43479999899864197, 0.40799999237060547, 0.5209000110626221, -0.1031000018119812, 0.09539999812841415, 0.6280999779701233, -0.35100001096725464, 0.3506999909877777, -0.045899998396635056, -0.2786000072956085, -0.23240000009536743, 0.06920000165700912, -0.5997999906539917, -0.44999998807907104, 1.832200050354004, 1.8278000354766846, 1.81850004196167, 1.8034000396728516, 1.7942999601364136, 1.791100025177002, 1.7892999649047852, 1.7879999876022339, 1.7797000408172607, 1.7776000499725342, 1.7766000032424927, 1.7731000185012817, 1.7545000314712524, 1.7351000308990479, 1.7249000072479248, 1.7065000534057617, 1.695099949836731, 1.694000005722046, 1.6821000576019287, 1.6723999977111816, 1.669600009918213, 1.655500054359436, 1.6349999904632568, 1.617400050163269, 1.6116000413894653, 1.607100009918213, 1.6047999858856201, 1.5570000410079956, 1.554800033569336, 1.5469000339508057, 1.5450999736785889, 1.427899956703186, 1.3325999975204468, 1.4651000499725342, 1.4757000207901, 1.309000015258789, 1.3789000511169434, 1.3205000162124634, 0.9060999751091003, 0.6395000219345093, 1.1416000127792358, 0.49160000681877136, 0.9071000218391418, 0.9413999915122986, 0.9096999764442444, -0.12150000035762787, 0.9962999820709229, 0.0731000006198883, 0.6776000261306763, 0.9441999793052673, 0.5221999883651733, 0.07989999651908875, 0.7785999774932861, 0.2547999918460846, 1.042099952697754, 0.09709999710321426, 0.19290000200271606, -0.30239999294281006, -0.10459999740123749, 0.41600000858306885, -0.21449999511241913, 0.24449999630451202, 0.059300001710653305, -0.2475000023841858, -0.00839999970048666, 0.46779999136924744, 1.8294999599456787, 1.823199987411499, 1.8202999830245972, 1.8172999620437622, 1.8171000480651855, 1.812000036239624, 1.801800012588501, 1.779099941253662, 1.7702000141143799, 1.7359999418258667, 1.7229000329971313, 1.722499966621399, 1.674299955368042, 1.6719000339508057, 1.6672999858856201, 1.6641000509262085, 1.659000039100647, 1.632599949836731, 1.6275999546051025, 1.6246000528335571, 1.6168999671936035, 1.6045000553131104, 1.6002999544143677, 1.592900037765503, 1.5866999626159668, 1.582900047302246, 1.5683000087738037, 1.565600037574768, 1.5401999950408936, 1.5363999605178833, 1.520400047302246, 1.5092999935150146, 1.4854999780654907, 1.4663000106811523, 1.4358999729156494, 1.4739999771118164, 1.4146000146865845, 1.4383000135421753, 1.3756999969482422, 0.8810999989509583, 1.2652000188827515, 1.4416999816894531, 1.3473999500274658, 0.7085000276565552, 0.9050999879837036, 0.6653000116348267, 1.2896000146865845, 0.6449000239372253, 0.43799999356269836, 0.26660001277923584, 0.6751999855041504, 0.6057000160217285, 0.6215999722480774, 0.17520000040531158, 0.028300000354647636, -0.03669999912381172, 0.5577999949455261, 0.31130000948905945, 0.45649999380111694, 0.22429999709129333, 0.053300000727176666, 0.10379999876022339, -0.4187000095844269, 0.1728000044822693, 0.5033000111579895, 0.7296000123023987, 0.1542000025510788, 0.44519999623298645, 2.006200075149536, 1.98580002784729, 1.975100040435791, 1.8906999826431274, 1.8804999589920044, 1.8418999910354614, 1.8028000593185425, 1.7949999570846558, 1.7894999980926514, 1.6801999807357788, 1.6770000457763672, 1.6765999794006348, 1.6756000518798828, 1.670699954032898, 1.6649999618530273, 1.6511000394821167, 1.644700050354004, 1.644700050354004, 1.642699956893921, 1.6404000520706177, 1.6339000463485718, 1.624500036239624, 1.598099946975708, 1.589900016784668, 1.5570000410079956, 1.5535999536514282, 1.5504000186920166, 1.5500999689102173, 1.5475000143051147, 1.538599967956543, 1.485200047492981, 1.4752000570297241, 1.5195000171661377, 1.395400047302246, 1.437399983406067, 1.4354000091552734, 1.4191999435424805, 1.2410999536514282, 1.12909996509552, 1.4371999502182007, 0.9541000127792358, 1.4747999906539917, 1.2620999813079834, 0.7723000049591064, 1.1663000583648682, 1.1719000339508057, 1.2360999584197998, 0.31189998984336853, 0.6119999885559082, 0.9693999886512756, 0.666100025177002, 0.6021999716758728, 0.680899977684021, 0.06669999659061432, -0.40070000290870667, 0.7742999792098999, -0.004100000020116568, 0.0892999991774559, 0.6116999983787537, 0.3490000069141388, 0.25600001215934753, 0.39309999346733093, 0.007000000216066837, 0.661899983882904, -0.09780000150203705, -0.4584999978542328], \"logprob\": [30.0, 29.0, 28.0, 27.0, 26.0, 25.0, 24.0, 23.0, 22.0, 21.0, 20.0, 19.0, 18.0, 17.0, 16.0, 15.0, 14.0, 13.0, 12.0, 11.0, 10.0, 9.0, 8.0, 7.0, 6.0, 5.0, 4.0, 3.0, 2.0, 1.0, -6.072500228881836, -6.120100021362305, -6.170300006866455, -6.065700054168701, -6.215400218963623, -5.973700046539307, -6.739500045776367, -6.673699855804443, -6.599400043487549, -6.1230998039245605, -6.324999809265137, -6.417399883270264, -6.654300212860107, -5.804599761962891, -6.247000217437744, -6.756199836730957, -6.58489990234375, -6.527900218963623, -6.229700088500977, -6.893199920654297, -6.188300132751465, -6.831200122833252, -6.585400104522705, -6.1855998039245605, -6.441400051116943, -5.922599792480469, -7.3379998207092285, -6.642600059509277, -6.664999961853027, -7.410799980163574, -5.26039981842041, -4.761600017547607, -4.250500202178955, -5.6057000160217285, -4.369500160217285, -5.008900165557861, -4.292500019073486, -5.495100021362305, -4.543900012969971, -3.711400032043457, -5.836100101470947, -5.542399883270264, -4.215099811553955, -4.8368000984191895, -5.932199954986572, -5.511300086975098, -5.813300132751465, -4.804200172424316, -5.174200057983398, -4.728400230407715, -5.234000205993652, -4.682600021362305, -4.9770002365112305, -5.078400135040283, -5.1915998458862305, -5.286499977111816, -5.19290018081665, -4.77400016784668, -5.293799877166748, -5.118199825286865, -5.630000114440918, -5.384699821472168, -5.015600204467773, -5.4984002113342285, -5.326000213623047, -5.463200092315674, -5.471799850463867, -5.401100158691406, -5.474899768829346, -6.099899768829346, -6.118100166320801, -6.274899959564209, -6.296000003814697, -6.522500038146973, -6.537300109863281, -6.616700172424316, -6.646399974822998, -6.358099937438965, -6.242700099945068, -7.010499954223633, -6.449399948120117, -5.702600002288818, -6.312699794769287, -6.1402997970581055, -6.894800186157227, -6.855599880218506, -6.138199806213379, -6.939799785614014, -6.9481000900268555, -6.309999942779541, -6.378600120544434, -6.336100101470947, -6.4679999351501465, -6.885700225830078, -7.061500072479248, -6.973499774932861, -6.682300090789795, -6.670400142669678, -7.0817999839782715, -6.676799774169922, -5.048299789428711, -4.41379976272583, -4.832099914550781, -5.110400199890137, -5.025700092315674, -5.090000152587891, -5.219900131225586, -4.64139986038208, -5.031099796295166, -4.810200214385986, -5.548399925231934, -3.7551000118255615, -4.705100059509277, -5.10890007019043, -5.467199802398682, -5.510000228881836, -4.570700168609619, -4.632599830627441, -4.544899940490723, -4.706200122833252, -4.942699909210205, -5.019700050354004, -4.851900100708008, -4.644700050354004, -5.1905999183654785, -5.10830020904541, -5.237100124359131, -5.172299861907959, -5.520899772644043, -5.468699932098389, -5.221099853515625, -5.376399993896484, -5.473899841308594, -4.423999786376953, -5.420499801635742, -5.736400127410889, -5.758299827575684, -5.970699787139893, -6.149400234222412, -6.151100158691406, -6.247300148010254, -6.322299957275391, -6.368800163269043, -6.428100109100342, -6.379899978637695, -6.696899890899658, -6.210700035095215, -6.445199966430664, -6.5229997634887695, -6.621600151062012, -6.569799900054932, -5.878300189971924, -6.2754998207092285, -6.403800010681152, -6.5320000648498535, -6.929500102996826, -6.612299919128418, -6.24560022354126, -6.654600143432617, -6.571599960327148, -6.832499980926514, -6.378399848937988, -5.81220006942749, -6.355899810791016, -5.833000183105469, -5.654799938201904, -4.972400188446045, -5.233099937438965, -5.852799892425537, -5.938899993896484, -5.127500057220459, -4.044300079345703, -5.492400169372559, -4.513599872589111, -5.782899856567383, -5.554299831390381, -5.077300071716309, -5.321400165557861, -4.2657999992370605, -5.183199882507324, -5.13040018081665, -5.128399848937988, -5.4822998046875, -5.366199970245361, -5.408599853515625, -5.657299995422363, -5.019800186157227, -5.208499908447266, -5.203700065612793, -5.307199954986572, -5.001699924468994, -5.151000022888184, -5.446199893951416, -5.077400207519531, -5.4045000076293945, -5.2870001792907715, -5.356500148773193, -5.401899814605713, -5.475399971008301, -5.428699970245361, -5.473999977111816, -4.930799961090088, -5.180099964141846, -5.531099796295166, -5.8694000244140625, -6.189899921417236, -6.242800235748291, -6.2804999351501465, -6.297599792480469, -6.010900020599365, -6.198400020599365, -6.479899883270264, -6.0467000007629395, -6.765900135040283, -6.499499797821045, -5.49560022354126, -6.416600227355957, -6.883200168609619, -6.082600116729736, -6.473499774932861, -6.651199817657471, -5.731599807739258, -6.442299842834473, -6.7006001472473145, -6.3105998039245605, -5.334499835968018, -6.648099899291992, -6.766200065612793, -5.909299850463867, -6.51039981842041, -6.720200061798096, -6.560999870300293, -4.646500110626221, -4.770699977874756, -5.906199932098389, -5.9720001220703125, -5.457699775695801, -5.791299819946289, -5.659200191497803, -4.737199783325195, -4.189499855041504, -5.394599914550781, -4.327499866485596, -5.085999965667725, -5.273200035095215, -5.321499824523926, -4.268499851226807, -5.460599899291992, -4.513599872589111, -5.16349983215332, -5.434299945831299, -5.079800128936768, -4.818699836730957, -5.425899982452393, -5.065800189971924, -5.617700099945068, -5.11299991607666, -5.178699970245361, -5.028900146484375, -5.182499885559082, -5.394999980926514, -5.23859977722168, -5.3597002029418945, -5.369900226593018, -5.345300197601318, -5.374300003051758, -5.43209981918335, -5.858699798583984, -5.995500087738037, -6.051000118255615, -6.120500087738037, -6.10230016708374, -5.7804999351501465, -6.390999794006348, -6.688700199127197, -6.783400058746338, -6.039000034332275, -6.617499828338623, -6.073299884796143, -6.788300037384033, -6.117800235748291, -6.6946001052856445, -6.427499771118164, -6.309700012207031, -6.668600082397461, -6.899899959564209, -6.557199954986572, -6.75, -5.07450008392334, -6.783699989318848, -6.066699981689453, -7.146699905395508, -6.700699806213379, -6.967100143432617, -7.007500171661377, -6.674200057983398, -6.664599895477295, -5.731599807739258, -5.867000102996826, -5.393099784851074, -5.305099964141846, -5.1803998947143555, -5.673399925231934, -5.150000095367432, -5.5366997718811035, -5.8765997886657715, -4.196700096130371, -5.519599914550781, -6.138700008392334, -5.922299861907959, -4.532599925994873, -5.019999980926514, -4.5447998046875, -5.806700229644775, -4.7210001945495605, -4.390999794006348, -4.2845001220703125, -5.152900218963623, -5.128699779510498, -5.184299945831299, -4.848800182342529, -4.7906999588012695, -4.763199806213379, -5.2393999099731445, -5.068999767303467, -5.223100185394287, -5.09630012512207, -5.04449987411499, -5.142600059509277, -5.00540018081665, -5.256400108337402, -5.40310001373291, -5.492000102996826, -5.377999782562256, -5.505799770355225, -6.166900157928467, -5.88670015335083, -6.55109977722168, -6.434100151062012, -6.249300003051758, -6.876299858093262, -5.7846999168396, -5.998499870300293, -5.899799823760986, -6.260700225830078, -6.861499786376953, -6.334700107574463, -6.779200077056885, -6.733399868011475, -6.778500080108643, -7.033400058746338, -6.6996002197265625, -6.26039981842041, -6.785099983215332, -5.818399906158447, -6.505099773406982, -2.9265999794006348, -6.670100212097168, -5.344600200653076, -6.775700092315674, -5.092800140380859, -6.95550012588501, -7.026899814605713, -7.283699989318848, -6.599899768829346, -4.599800109863281, -4.497300148010254, -6.131800174713135, -5.018700122833252, -5.55679988861084, -5.631800174713135, -5.614299774169922, -5.140999794006348, -4.695400238037109, -6.013500213623047, -4.432199954986572, -6.144400119781494, -5.569200038909912, -4.325500011444092, -5.44379997253418, -5.476099967956543, -5.653800010681152, -4.274700164794922, -4.768400192260742, -5.3643999099731445, -5.013500213623047, -4.938000202178955, -5.146200180053711, -4.752299785614014, -4.547800064086914, -5.371099948883057, -4.902699947357178, -4.98859977722168, -5.313399791717529, -5.255300045013428, -5.351500034332275, -5.4253997802734375, -5.36329984664917, -5.492199897766113, -5.418399810791016, -5.482500076293945]}, \"token.table\": {\"Topic\": [1, 2, 4, 5, 6, 3, 2, 3, 2, 3, 6, 1, 2, 5, 1, 4, 5, 2, 4, 1, 2, 3, 1, 2, 3, 4, 5, 4, 1, 2, 3, 4, 5, 6, 1, 2, 3, 4, 5, 6, 1, 4, 1, 2, 5, 6, 1, 2, 3, 4, 5, 6, 1, 2, 3, 4, 5, 6, 5, 1, 2, 6, 2, 3, 1, 2, 3, 4, 5, 6, 1, 1, 2, 4, 5, 1, 2, 3, 4, 5, 6, 2, 3, 4, 5, 6, 1, 2, 3, 4, 5, 2, 4, 5, 4, 1, 2, 3, 4, 5, 6, 1, 2, 3, 4, 5, 6, 1, 2, 4, 6, 4, 5, 1, 2, 3, 4, 5, 6, 1, 2, 3, 4, 5, 6, 2, 5, 2, 3, 5, 2, 3, 4, 2, 4, 5, 6, 1, 2, 3, 4, 5, 6, 3, 1, 2, 3, 4, 5, 6, 2, 4, 2, 5, 2, 4, 1, 2, 2, 3, 1, 2, 3, 4, 5, 6, 5, 1, 2, 6, 1, 2, 4, 5, 6, 1, 3, 4, 5, 1, 2, 3, 4, 5, 6, 3, 5, 6, 3, 4, 6, 4, 6, 1, 3, 4, 1, 2, 3, 5, 6, 1, 2, 3, 4, 5, 6, 1, 2, 3, 4, 6, 1, 3, 5, 6, 3, 1, 2, 3, 4, 5, 6, 1, 2, 4, 6, 5, 1, 2, 3, 4, 5, 6, 1, 2, 5, 6, 2, 3, 5, 1, 2, 3, 4, 5, 6, 1, 5, 6, 1, 2, 4, 2, 2, 5, 6, 2, 4, 5, 6, 1, 2, 3, 4, 5, 6, 3, 5, 1, 2, 3, 4, 5, 6, 1, 2, 3, 4, 5, 6, 3, 4, 5, 1, 2, 3, 4, 5, 6, 2, 5, 5, 1, 3, 3, 2, 4, 5, 2, 3, 4, 1, 2, 3, 4, 5, 6, 2, 3, 4, 5, 6, 1, 3, 4, 1, 2, 3, 4, 5, 6, 1, 2, 4, 3, 4, 6, 2, 3, 4, 5, 6, 1, 2, 3, 4, 5, 6, 1, 2, 3, 4, 5, 6, 1, 2, 3, 4, 5, 6, 1, 2, 3, 4, 5, 6, 1, 3, 5, 6, 2, 3, 1, 2, 3, 4, 5, 6, 6, 1, 2, 1, 2, 3, 4, 6, 2, 4, 5, 6, 2, 5, 1, 2, 3, 4, 5, 1, 2, 3, 4, 6, 2, 3, 1, 2, 3, 4, 6, 4, 3, 1, 3, 4, 5, 6, 2, 5, 3, 4, 3, 1, 2, 3, 4, 5, 6, 1, 5, 1, 2, 3, 4, 5, 6, 2, 2, 3, 4, 5, 6, 1, 2, 3, 4, 5, 6, 3, 1, 3, 4, 6, 5, 2, 4, 6, 1, 2, 3, 4, 5, 6, 4, 5, 6, 3, 4, 5, 2, 3, 4, 5, 6, 1, 2, 3, 4, 5, 6, 1, 2, 3, 4, 5, 6, 1, 2, 3, 4, 5, 6, 1, 2, 3, 4, 5, 6, 1, 4, 1, 2, 3, 4, 5, 6, 1, 2, 3, 4, 5, 6, 2, 3, 4, 6, 1, 2, 3, 4, 5, 6, 3, 4, 1, 2, 3, 4, 5, 6, 1, 2, 3, 4, 5, 6, 1, 3, 4, 5, 6, 1, 2, 3, 4, 5, 6, 2, 1, 1, 2, 3, 5, 6, 1, 2, 3, 4, 5, 6, 1, 5, 2, 4, 5, 4, 1, 2, 3, 5, 6, 1, 2, 3, 5, 6, 4, 3, 1, 3, 5, 2, 3, 5, 1, 2, 5, 1, 2, 3, 4, 5, 6, 1, 2, 3, 4, 5, 6, 4, 5, 6, 3, 5, 2, 1, 2, 3, 4, 5, 6, 1, 2, 3, 4, 5, 6, 3, 1, 2, 3, 4, 5, 6, 1, 2, 3, 4, 5, 6, 4, 5, 6, 1, 4, 5, 1, 2, 3, 4, 5, 6, 1, 2, 3, 4, 5, 6, 3, 2, 3, 5, 6, 1, 2, 3, 4, 5, 6, 1, 2, 3, 4, 1, 2, 3, 4, 5, 6, 1, 2, 3, 4, 5, 6, 2, 3, 5, 3, 4, 6, 2, 4, 5, 1, 5, 1, 2, 3, 4, 5, 6, 1, 2, 3, 4, 5, 6, 1, 2, 3, 4, 5, 6, 2, 3, 2, 3, 4, 5, 3, 4, 6, 2, 3, 4, 5, 6, 1, 2, 3, 4, 5, 6, 2, 4, 6, 1, 1, 2, 3, 4, 5, 6, 1, 6, 4, 2, 4, 1, 2, 4, 5, 6, 3, 1, 2, 3, 4, 5, 6, 2, 4, 1, 5, 6, 2, 1, 2, 3, 4, 5, 6, 1, 3, 1, 4, 4, 1, 2, 3, 4, 5, 6, 1, 2, 3, 5, 2, 3, 1, 2, 4, 5, 6, 2, 4, 5, 5, 2, 3, 4, 1, 4, 1, 2, 5, 1, 2, 3, 4, 5, 6, 1, 2, 3, 4, 5, 6, 1, 3, 4, 5, 6, 1, 2, 3, 4, 5, 6, 3, 1, 2, 5, 1, 2, 3, 4, 5, 6, 1, 3, 4, 1, 2, 3, 4, 5, 6, 1, 2, 3, 5, 2, 3, 4, 1, 2, 3, 4, 3, 6, 2, 4, 3, 6, 1, 2, 4, 2, 5, 6, 4, 5, 2, 4, 5, 6, 1, 2, 3, 4, 5, 1, 2, 4, 1, 2, 3, 4, 5, 6, 1, 2, 3, 4, 5, 6, 1, 2, 3, 4, 5, 6, 1, 2, 3, 2, 3, 1, 2, 3, 4, 5, 6, 4, 5, 1, 3, 5, 1, 3, 4, 1, 2, 3, 4, 5, 6, 1, 2, 3, 4, 5, 1, 2, 3, 4, 5, 6, 2, 3, 4, 5, 1, 2, 3, 4, 5, 6, 3, 4, 3, 4, 1, 2, 5, 1, 2, 4, 3, 6, 2, 1, 3, 1, 2, 4, 5, 6, 1, 2, 3, 4, 5, 6, 1, 3, 5, 4, 3, 6, 1, 2, 3, 4, 5, 6, 1, 2, 3, 4, 5, 6, 1, 2, 4, 5, 6, 1, 2, 3, 4, 5, 6, 1, 2, 3, 4, 5, 6, 1, 2, 3, 4, 5, 6, 2, 4, 6, 2, 3, 5, 2, 4, 5, 4, 1, 2, 3, 4, 5, 6, 2, 5, 2, 3, 5, 6, 2, 3, 4, 1, 2, 3, 4, 5, 6, 1, 2, 3, 4, 5, 6, 2, 5, 1, 3, 4, 1, 4, 2, 3, 6, 4, 2, 1, 2, 3, 4, 5, 6, 5, 3, 5, 6, 6, 1, 2, 4, 5, 1, 2, 3, 4, 5, 6, 1, 2, 3, 4, 5, 6, 1, 2, 3, 4, 5, 6, 4, 2, 3, 1, 2, 3, 4, 5, 6, 4, 6, 1, 2, 3, 4, 5, 6, 1, 2, 3, 4, 5, 6, 1, 2, 3, 4, 5, 6, 1, 1, 2, 3, 4, 5, 6, 1, 2, 3, 5, 1, 2, 3, 4, 5, 1, 2, 3, 4, 5, 6, 1, 2, 3, 4, 5, 6, 1, 2, 3, 4, 5, 6, 1, 2, 3, 4, 5, 6, 1, 2, 3, 4, 5, 6, 1, 2, 3, 4, 5, 6, 3, 4, 5, 1, 5, 6, 1, 3, 5, 6, 2, 4, 5, 6], \"Freq\": [0.13474422693252563, 0.06737211346626282, 0.03368605673313141, 0.20211634039878845, 0.5389769077301025, 0.886976420879364, 0.08002457767724991, 0.8802703619003296, 0.18181142210960388, 0.18181142210960388, 0.6363399624824524, 0.7575839161872864, 0.11655137687921524, 0.05827568843960762, 0.08420262485742569, 0.08420262485742569, 0.7578235864639282, 0.09332818537950516, 0.8399536609649658, 0.9317865371704102, 0.035837944597005844, 0.9136125445365906, 0.7198932766914368, 0.01894455961883068, 0.07577823847532272, 0.17050103843212128, 0.01894455961883068, 0.965663731098175, 0.3502509891986847, 0.04041357338428497, 0.04041357338428497, 0.3098374009132385, 0.14818310737609863, 0.10776953399181366, 0.17286010086536407, 0.05318772420287132, 0.2725870907306671, 0.059836190193891525, 0.30582940578460693, 0.13961777091026306, 0.10401603579521179, 0.8321282863616943, 0.9190551042556763, 0.06564678996801376, 0.26846954226493835, 0.6264289617538452, 0.3967795670032501, 0.05771338939666748, 0.1226409524679184, 0.23085355758666992, 0.1442834734916687, 0.050499215722084045, 0.04673883318901062, 0.2846820056438446, 0.14446549117565155, 0.08073071390390396, 0.21244925260543823, 0.2294451892375946, 0.939699649810791, 0.09193964302539825, 0.1838792860507965, 0.6435774564743042, 0.8961024880409241, 0.056006405502557755, 0.27076563239097595, 0.23506027460098267, 0.10414062440395355, 0.1279442012310028, 0.18447768688201904, 0.0803370550274849, 0.921195924282074, 0.7871600389480591, 0.037483811378479004, 0.07496762275695801, 0.07496762275695801, 0.37480804324150085, 0.24987202882766724, 0.10708801448345184, 0.1338600218296051, 0.0713920071721077, 0.06246800720691681, 0.08877511322498322, 0.11096888780593872, 0.19974400103092194, 0.06658133119344711, 0.5104568600654602, 0.02810698002576828, 0.140534907579422, 0.140534907579422, 0.08432094007730484, 0.5902466177940369, 0.8836454153060913, 0.08033140003681183, 0.08033140003681183, 0.8836026787757874, 0.12354610115289688, 0.22108250856399536, 0.30561405420303345, 0.05852184072136879, 0.28610676527023315, 0.006502426695078611, 0.17106512188911438, 0.09622412919998169, 0.37420496344566345, 0.28867238759994507, 0.021383140236139297, 0.042766280472278595, 0.661834716796875, 0.1225619837641716, 0.02451239712536335, 0.1715867817401886, 0.12787802517414093, 0.8312071561813354, 0.18591664731502533, 0.1369912177324295, 0.1369912177324295, 0.40118855237960815, 0.00978508684784174, 0.12720613181591034, 0.1905769407749176, 0.35516610741615295, 0.06063811480998993, 0.1905769407749176, 0.0952884703874588, 0.11261364817619324, 0.8606043457984924, 0.08606043457984924, 0.9502988457679749, 0.88636714220047, 0.0681820884346962, 0.034019988030195236, 0.30617988109588623, 0.6548847556114197, 0.06411756575107574, 0.8335283994674683, 0.03205878287553787, 0.06411756575107574, 0.02229263447225094, 0.6799253821372986, 0.01114631723612547, 0.05573158711194992, 0.2006337195634842, 0.02229263447225094, 0.9472544193267822, 0.10621443390846252, 0.4049425423145294, 0.1593216508626938, 0.09957603365182877, 0.13940644264221191, 0.08629923313856125, 0.8519842624664307, 0.11617967486381531, 0.7979249358177185, 0.1841365247964859, 0.8327856063842773, 0.1387975960969925, 0.7893833518028259, 0.16915357112884521, 0.16317012906074524, 0.7342655658721924, 0.12239944934844971, 0.22521498799324036, 0.09057559072971344, 0.2986546456813812, 0.23990292847156525, 0.026927879080176353, 0.9197239875793457, 0.10187426954507828, 0.23770663142204285, 0.645203709602356, 0.04206273332238197, 0.08412546664476395, 0.5888782739639282, 0.14721956849098206, 0.12618820369243622, 0.19447141885757446, 0.6667591333389282, 0.11112652719020844, 0.02778163179755211, 0.3412657082080841, 0.1812974065542221, 0.26661384105682373, 0.04265821352601051, 0.010664553381502628, 0.159968301653862, 0.0837845429778099, 0.8378453850746155, 0.0837845429778099, 0.8900346159934998, 0.06357390433549881, 0.06357390433549881, 0.23135901987552643, 0.6940770745277405, 0.07046405971050262, 0.7751047015190125, 0.14092811942100525, 0.5844685435295105, 0.07305856794118881, 0.14611713588237762, 0.14611713588237762, 0.04383514076471329, 0.40729016065597534, 0.18101784586906433, 0.0955372005701065, 0.15587648749351501, 0.11062201857566833, 0.04525446146726608, 0.06447098404169083, 0.06447098404169083, 0.7736518383026123, 0.06447098404169083, 0.06447098404169083, 0.9785048365592957, 0.7711946964263916, 0.14021721482276917, 0.07010860741138458, 0.9888877868652344, 0.18549899756908417, 0.15899914503097534, 0.18549899756908417, 0.039749786257743835, 0.039749786257743835, 0.39087289571762085, 0.9407389760017395, 0.18303249776363373, 0.7931408286094666, 0.020336944609880447, 0.9133765697479248, 0.7421411275863647, 0.05708777904510498, 0.05708777904510498, 0.05708777904510498, 0.05708777904510498, 0.05708777904510498, 0.015568961389362812, 0.031137922778725624, 0.7628790736198425, 0.1712585687637329, 0.09513437002897263, 0.04756718501448631, 0.8562093377113342, 0.26288577914237976, 0.2262040376663208, 0.11004520952701569, 0.16506780683994293, 0.09781796485185623, 0.1344996988773346, 0.18982253968715668, 0.04745563492178917, 0.7592901587486267, 0.9079544544219971, 0.05340908467769623, 0.05340908467769623, 0.946232795715332, 0.9664742350578308, 0.36185222864151, 0.6231899261474609, 0.10349435359239578, 0.10349435359239578, 0.7244604825973511, 0.10349435359239578, 0.01637997105717659, 0.6715787649154663, 0.027299951761960983, 0.06551988422870636, 0.12557977437973022, 0.09281983226537704, 0.7980164885520935, 0.09975206106901169, 0.026263313367962837, 0.07878994196653366, 0.27138757705688477, 0.5953017473220825, 0.01750887557864189, 0.008754437789320946, 0.7200592756271362, 0.01358602475374937, 0.04075807332992554, 0.01358602475374937, 0.04075807332992554, 0.16303229331970215, 0.08564795553684235, 0.08564795553684235, 0.7708315849304199, 0.1608029007911682, 0.03573397919535637, 0.36627328395843506, 0.10720193386077881, 0.1608029007911682, 0.16973640024662018, 0.8341231942176819, 0.09268035739660263, 0.93156898021698, 0.05409609526395798, 0.9196336269378662, 0.9581238627433777, 0.7898523807525635, 0.07898523658514023, 0.07898523658514023, 0.08161332458257675, 0.08161332458257675, 0.8161332607269287, 0.1195915937423706, 0.039863865822553635, 0.039863865822553635, 0.039863865822553635, 0.2391831874847412, 0.5580940842628479, 0.0967644602060318, 0.0967644602060318, 0.0967644602060318, 0.0967644602060318, 0.5805867910385132, 0.8790603876113892, 0.05671357363462448, 0.02835678681731224, 0.24933494627475739, 0.2598332464694977, 0.14697638154029846, 0.1705975979566574, 0.04986698925495148, 0.12597976624965668, 0.052162494510412216, 0.8345999121665955, 0.10432498902082443, 0.08232051134109497, 0.2469615489244461, 0.6585640907287598, 0.10669517517089844, 0.2987464964389801, 0.042678069323301315, 0.021339034661650658, 0.5334758758544922, 0.11668005585670471, 0.28639650344848633, 0.10076913982629776, 0.2651819586753845, 0.14850188791751862, 0.07955458015203476, 0.16482140123844147, 0.25450363755226135, 0.029086129739880562, 0.256927490234375, 0.1575498729944229, 0.1333114355802536, 0.31678295135498047, 0.16062234342098236, 0.10261983424425125, 0.1650840789079666, 0.18293100595474243, 0.06692598015069962, 0.3094630241394043, 0.29460880160331726, 0.1448286920785904, 0.1398772895336151, 0.02723274566233158, 0.08417394012212753, 0.09996325522661209, 0.09996325522661209, 0.09996325522661209, 0.6997427940368652, 0.24977447092533112, 0.7493234276771545, 0.17498615384101868, 0.710881233215332, 0.04374653846025467, 0.03280990198254585, 0.021873269230127335, 0.010936634615063667, 0.8886854648590088, 0.8367580771446228, 0.1255137026309967, 0.71219801902771, 0.0728384330868721, 0.04046579450368881, 0.08093158900737762, 0.09711790829896927, 0.201129749417305, 0.0670432522892952, 0.1340865045785904, 0.6704325079917908, 0.15770861506462097, 0.7885430455207825, 0.08625418692827225, 0.1725083738565445, 0.21171483397483826, 0.39206451177597046, 0.14898450672626495, 0.05795786902308464, 0.21734201908111572, 0.4636629521846771, 0.15938414633274078, 0.08693680912256241, 0.4302229881286621, 0.5592898726463318, 0.23046636581420898, 0.02560737542808056, 0.5761659145355225, 0.038411062210798264, 0.12803687155246735, 0.982217013835907, 0.942363440990448, 0.6234169006347656, 0.04022044315934181, 0.22121243178844452, 0.08044088631868362, 0.020110221579670906, 0.09316793084144592, 0.8850953578948975, 0.760595977306366, 0.1901489943265915, 0.9587382078170776, 0.01388635952025652, 0.02777271904051304, 0.09720451384782791, 0.09720451384782791, 0.6387725472450256, 0.11109087616205215, 0.42540889978408813, 0.5672118663787842, 0.10006676614284515, 0.3682457208633423, 0.02401602454483509, 0.2041362076997757, 0.19212819635868073, 0.11207477748394012, 0.9209873080253601, 0.1785789132118225, 0.6473485827445984, 0.08928945660591125, 0.04464472830295563, 0.04464472830295563, 0.046090200543403625, 0.015363399870693684, 0.23045100271701813, 0.03840849921107292, 0.12290719896554947, 0.5454006791114807, 0.975607693195343, 0.10389626026153564, 0.2077925205230713, 0.10389626026153564, 0.6233775615692139, 0.9688493609428406, 0.9648464322090149, 0.11964301019906998, 0.8375011086463928, 0.2596081495285034, 0.24106471240520477, 0.23488356173038483, 0.018543438985943794, 0.1792532503604889, 0.06799261271953583, 0.08073180168867111, 0.08073180168867111, 0.8073180317878723, 0.06997562944889069, 0.06997562944889069, 0.7697319388389587, 0.03126917779445648, 0.1876150667667389, 0.03126917779445648, 0.687921941280365, 0.03126917779445648, 0.10798066854476929, 0.1754685938358307, 0.013497583568096161, 0.49941059947013855, 0.18896616995334625, 0.026995167136192322, 0.5196738839149475, 0.19012460112571716, 0.06337486952543259, 0.08872481435537338, 0.08872481435537338, 0.05069989338517189, 0.2029951810836792, 0.12029343843460083, 0.18044015765190125, 0.09773841500282288, 0.24058687686920166, 0.1578851342201233, 0.16538892686367035, 0.21572467684745789, 0.19415220618247986, 0.10067151486873627, 0.25167879462242126, 0.07190822809934616, 0.048720281571149826, 0.9256853461265564, 0.23070210218429565, 0.15380141139030457, 0.03845035284757614, 0.03845035284757614, 0.11535105109214783, 0.42295387387275696, 0.0836421549320221, 0.19516503810882568, 0.46467864513397217, 0.0650550127029419, 0.046467866748571396, 0.148697167634964, 0.1343335211277008, 0.1343335211277008, 0.7052509784698486, 0.0335833802819252, 0.12114959210157394, 0.08653542399406433, 0.03461416810750961, 0.13845667243003845, 0.5538266897201538, 0.06922833621501923, 0.07377563416957855, 0.8853075504302979, 0.046589337289333344, 0.19710873067378998, 0.19710873067378998, 0.17202216386795044, 0.3010387718677521, 0.08601108193397522, 0.15474775433540344, 0.1633448451757431, 0.04298548772931099, 0.07737387716770172, 0.008597097359597683, 0.5502142310142517, 0.8840609788894653, 0.040184590965509415, 0.040184590965509415, 0.27497047185897827, 0.659929096698761, 0.3105217516422272, 0.10350725054740906, 0.1552608758211136, 0.0628436878323555, 0.3142184317111969, 0.05175362527370453, 0.9588227272033691, 0.9337975978851318, 0.0273935254663229, 0.6117887496948242, 0.009131175465881824, 0.08218057453632355, 0.2739352583885193, 0.2515321373939514, 0.18864910304546356, 0.3323817551136017, 0.053899746388196945, 0.08084961771965027, 0.08983290940523148, 0.7728461623191833, 0.2003675103187561, 0.0845465213060379, 0.7609187364578247, 0.0845465213060379, 0.9383878111839294, 0.08774108439683914, 0.17548216879367828, 0.07311756908893585, 0.6434345841407776, 0.01462351344525814, 0.02761460468173027, 0.05522920936346054, 0.16568762063980103, 0.7179797291755676, 0.02761460468173027, 0.9048331379890442, 0.916607141494751, 0.708993136882782, 0.1181655153632164, 0.9314666986465454, 0.19898365437984467, 0.12436478585004807, 0.67156982421875, 0.21687930822372437, 0.07229310274124146, 0.7229310274124146, 0.055080220103263855, 0.4907146990299225, 0.17525525391101837, 0.055080220103263855, 0.13018961250782013, 0.09013127535581589, 0.2819126546382904, 0.15332092344760895, 0.1632125973701477, 0.12859174609184265, 0.17805010080337524, 0.093970887362957, 0.2680409550666809, 0.06701023876667023, 0.6030921936035156, 0.7280206084251404, 0.2620874047279358, 0.9477309584617615, 0.37536779046058655, 0.12512259185314178, 0.032926999032497406, 0.13829338550567627, 0.13829338550567627, 0.18439118564128876, 0.21419423818588257, 0.16064567863941193, 0.2463233768939972, 0.17135539650917053, 0.14458110928535461, 0.06425826996564865, 0.8997655510902405, 0.14882828295230865, 0.30297186970710754, 0.06378354877233505, 0.20198124647140503, 0.11162121593952179, 0.17540477216243744, 0.014402592554688454, 0.576103687286377, 0.028805185109376907, 0.028805185109376907, 0.21603888273239136, 0.14402592182159424, 0.0513586550951004, 0.0513586550951004, 0.9244558215141296, 0.8812515735626221, 0.048958420753479004, 0.048958420753479004, 0.08329569548368454, 0.5726578831672668, 0.04164784774184227, 0.18741531670093536, 0.062471769750118256, 0.052059806883335114, 0.049326617270708084, 0.09865323454141617, 0.5721887350082397, 0.09865323454141617, 0.14797985553741455, 0.03946129232645035, 0.9401660561561584, 0.22959624230861664, 0.6313896775245667, 0.08609858900308609, 0.05739906057715416, 0.3039630651473999, 0.09211001545190811, 0.06447701156139374, 0.18422003090381622, 0.1105320155620575, 0.23948603868484497, 0.8813841342926025, 0.044069208204746246, 0.044069208204746246, 0.044069208204746246, 0.3471745550632477, 0.045283637940883636, 0.09056727588176727, 0.06037818640470505, 0.06037818640470505, 0.4075527489185333, 0.12609198689460754, 0.12609198689460754, 0.17194361984729767, 0.08597180992364883, 0.24072106182575226, 0.24645251035690308, 0.07133066654205322, 0.21399199962615967, 0.7133066654205322, 0.0622749924659729, 0.7472999095916748, 0.1868249773979187, 0.15495552122592926, 0.07747776061296463, 0.7747776508331299, 0.7972931861877441, 0.07972931861877441, 0.02457049861550331, 0.09828199446201324, 0.31941649317741394, 0.22932465374469757, 0.21294432878494263, 0.12285249680280685, 0.10827662795782089, 0.09280853718519211, 0.44857460260391235, 0.201085165143013, 0.046404268592596054, 0.09280853718519211, 0.3336392939090729, 0.23862941563129425, 0.11489564925432205, 0.11710517853498459, 0.14803862571716309, 0.04640016704797745, 0.07577215880155563, 0.9092658758163452, 0.01901055872440338, 0.17109502851963043, 0.11406335234642029, 0.6843801140785217, 0.8711016774177551, 0.03787398710846901, 0.03787398710846901, 0.35739630460739136, 0.01152891293168068, 0.4035119414329529, 0.19599151611328125, 0.03458673879504204, 0.18695814907550812, 0.20629864931106567, 0.18695814907550812, 0.07091516256332397, 0.2707669734954834, 0.07736199349164963, 0.8223540186882019, 0.09137266874313354, 0.04568633437156677, 0.95570969581604, 0.1180030032992363, 0.05900150164961815, 0.05900150164961815, 0.05900150164961815, 0.05900150164961815, 0.6490164995193481, 0.8710686564445496, 0.06700528413057327, 0.9674242734909058, 0.8381986021995544, 0.08381985872983932, 0.11477194726467133, 0.2524982988834381, 0.04590877890586853, 0.0688631683588028, 0.5279509425163269, 0.9661054611206055, 0.15986472368240356, 0.18893104791641235, 0.04359947144985199, 0.14533157646656036, 0.04359947144985199, 0.4069283902645111, 0.8652135729789734, 0.08652135729789734, 0.09265640377998352, 0.8339076042175293, 0.09265640377998352, 0.891985297203064, 0.4985206723213196, 0.1482088565826416, 0.18862944841384888, 0.040420595556497574, 0.09431472420692444, 0.026947064325213432, 0.13631252944469452, 0.8178751468658447, 0.047321867197752, 0.9464373588562012, 0.973486602306366, 0.05896371603012085, 0.6822944283485413, 0.025270164012908936, 0.1516209840774536, 0.0758104920387268, 0.008423388004302979, 0.05654280260205269, 0.05654280260205269, 0.05654280260205269, 0.7915992736816406, 0.889761745929718, 0.08088743686676025, 0.5761661529541016, 0.2372448742389679, 0.12709547579288483, 0.008473031222820282, 0.03389212489128113, 0.12147286534309387, 0.12147286534309387, 0.7288371920585632, 0.9733363389968872, 0.0762062594294548, 0.0762062594294548, 0.7620626091957092, 0.19461876153945923, 0.7136021256446838, 0.8777878284454346, 0.07314898818731308, 0.07314898818731308, 0.02377411723136902, 0.49331292510032654, 0.30906352400779724, 0.059435293078422546, 0.08320941030979156, 0.03566117584705353, 0.20064416527748108, 0.05159421265125275, 0.28090181946754456, 0.18917877972126007, 0.17771339416503906, 0.09745573252439499, 0.6643082499504089, 0.19929246604442596, 0.06643082201480865, 0.044287215918302536, 0.044287215918302536, 0.22669556736946106, 0.26757508516311646, 0.17838339507579803, 0.05574481189250946, 0.1709507554769516, 0.09662433713674545, 0.9343940019607544, 0.8192594647407532, 0.0744781345129013, 0.0744781345129013, 0.26032203435897827, 0.09081001579761505, 0.139242023229599, 0.17556601762771606, 0.28453803062438965, 0.05448600649833679, 0.06816403567790985, 0.06816403567790985, 0.8179684281349182, 0.6089844107627869, 0.05799851194024086, 0.05799851194024086, 0.15949590504169464, 0.10149739682674408, 0.02899925597012043, 0.08286932855844498, 0.08286932855844498, 0.22098487615585327, 0.6077083945274353, 0.2052725851535797, 0.03421209752559662, 0.7526661157608032, 0.02699938602745533, 0.24299447238445282, 0.6479852795600891, 0.08099815994501114, 0.30515262484550476, 0.6103052496910095, 0.9311483502388, 0.04655741527676582, 0.26217901706695557, 0.6991440653800964, 0.7701020240783691, 0.1443941295146942, 0.04813137650489807, 0.06643099337816238, 0.06643099337816238, 0.7971718907356262, 0.8143958449363708, 0.16287916898727417, 0.3140123784542084, 0.02093415893614292, 0.6489589214324951, 0.02093415893614292, 0.05170522257685661, 0.05170522257685661, 0.7238730788230896, 0.05170522257685661, 0.05170522257685661, 0.09214295446872711, 0.8292865753173828, 0.09214295446872711, 0.14505988359451294, 0.09066242724657059, 0.036264970898628235, 0.16319237649440765, 0.12692740559577942, 0.4351796805858612, 0.10944747179746628, 0.1691460907459259, 0.15919631719589233, 0.38804101943969727, 0.07959815859794617, 0.07959815859794617, 0.3125717341899872, 0.2635408639907837, 0.17773686349391937, 0.06128857284784317, 0.17160800099372864, 0.01838657259941101, 0.06168390065431595, 0.8018907308578491, 0.06168390065431595, 0.8166067600250244, 0.12563180923461914, 0.011024641804397106, 0.33073925971984863, 0.1212710589170456, 0.033073924481868744, 0.1763942688703537, 0.33073925971984863, 0.14182795584201813, 0.8036918044090271, 0.0996541976928711, 0.0996541976928711, 0.6975793838500977, 0.8216666579246521, 0.11738094687461853, 0.11738094687461853, 0.3121810257434845, 0.31961390376091003, 0.014865763485431671, 0.17838916182518005, 0.06689593195915222, 0.1040603443980217, 0.1533988118171692, 0.0383497029542923, 0.0383497029542923, 0.0766994059085846, 0.6519449353218079, 0.2810538411140442, 0.09804204106330872, 0.1372588574886322, 0.2418370395898819, 0.08496976643800735, 0.15686726570129395, 0.844478964805603, 0.08444789797067642, 0.08444789797067642, 0.08444789797067642, 0.056009650230407715, 0.5280910134315491, 0.0480082705616951, 0.08001378923654556, 0.22403860092163086, 0.056009650230407715, 0.10702846944332123, 0.8829848766326904, 0.08063411712646484, 0.8063411712646484, 0.04874627664685249, 0.8286867141723633, 0.09749255329370499, 0.8249618411064148, 0.11785168945789337, 0.03928389772772789, 0.2138192355632782, 0.7697492241859436, 0.9439445734024048, 0.8533124923706055, 0.11377499997615814, 0.05089127644896507, 0.07633692026138306, 0.6361410021781921, 0.05089127644896507, 0.2035651057958603, 0.08837558329105377, 0.1882784217596054, 0.28049641847610474, 0.16906633973121643, 0.10182404518127441, 0.1709875464439392, 0.8590424060821533, 0.06136017292737961, 0.06136017292737961, 0.9113340973854065, 0.41167426109313965, 0.5763439536094666, 0.08975503593683243, 0.2607170045375824, 0.09830313920974731, 0.13249553740024567, 0.09402908384799957, 0.32482776045799255, 0.07367537915706635, 0.07687865942716599, 0.2947015166282654, 0.12172453850507736, 0.1633671522140503, 0.2722785770893097, 0.2628213167190552, 0.011946422979235649, 0.011946422979235649, 0.20308919250965118, 0.5017497539520264, 0.011570179834961891, 0.15041233599185944, 0.1966930627822876, 0.046280719339847565, 0.16198252141475677, 0.43966683745384216, 0.12878230214118958, 0.48000678420066833, 0.011707482859492302, 0.16390475630760193, 0.12878230214118958, 0.09365986287593842, 0.03362105041742325, 0.48190170526504517, 0.12327718734741211, 0.10086315125226974, 0.14569121599197388, 0.11207016557455063, 0.16273099184036255, 0.16273099184036255, 0.5695584416389465, 0.07312532514333725, 0.8775039315223694, 0.9746711850166321, 0.0753026008605957, 0.753026008605957, 0.0753026008605957, 0.9533286690711975, 0.1340222954750061, 0.1759042590856552, 0.1298341006040573, 0.15496326982975006, 0.29317376017570496, 0.10889311134815216, 0.20753590762615204, 0.7471292614936829, 0.13395200669765472, 0.13395200669765472, 0.13395200669765472, 0.5358080267906189, 0.06433146446943283, 0.06433146446943283, 0.8363090753555298, 0.10361385345458984, 0.1224527359008789, 0.1224527359008789, 0.14129161834716797, 0.37049800157546997, 0.13815180957317352, 0.1259317696094513, 0.0774964764714241, 0.18405413627624512, 0.33904707431793213, 0.18405413627624512, 0.09687059372663498, 0.08200646936893463, 0.9020711779594421, 0.06598901748657227, 0.06598901748657227, 0.8578572273254395, 0.9148426651954651, 0.045742131769657135, 0.2652864456176758, 0.053057290613651276, 0.6366874575614929, 0.9762754440307617, 0.9700690507888794, 0.668585479259491, 0.18317410349845886, 0.050372879952192307, 0.018317410722374916, 0.05953158438205719, 0.022896762937307358, 0.9319823980331421, 0.8975421786308289, 0.056096386164426804, 0.056096386164426804, 0.9017311334609985, 0.16209955513477325, 0.1496303528547287, 0.4239526689052582, 0.2618531286716461, 0.13597147166728973, 0.06798573583364487, 0.13597147166728973, 0.5778787136077881, 0.0509893000125885, 0.033992867916822433, 0.45909973978996277, 0.16847696900367737, 0.06317886710166931, 0.18953658640384674, 0.054755017161369324, 0.06739078462123871, 0.0879141092300415, 0.22711145877838135, 0.04395705461502075, 0.021978527307510376, 0.380961149930954, 0.23443762958049774, 0.974294126033783, 0.8700283765792847, 0.048334911465644836, 0.38526037335395813, 0.05978178232908249, 0.03321210294961929, 0.17270293831825256, 0.09963630884885788, 0.24576956033706665, 0.6845271587371826, 0.28003382682800293, 0.2877694368362427, 0.6043158173561096, 0.04796157032251358, 0.038369257003068924, 0.009592314250767231, 0.019184628501534462, 0.029566073790192604, 0.14783036708831787, 0.16754108667373657, 0.2660946547985077, 0.31537145376205444, 0.06898750364780426, 0.015348576940596104, 0.030697153881192207, 0.5218515992164612, 0.015348576940596104, 0.16883434355258942, 0.24557723104953766, 0.9818981289863586, 0.546822726726532, 0.07571391761302948, 0.11777719855308533, 0.07571391761302948, 0.05468226969242096, 0.12618985772132874, 0.026392200961709023, 0.8973348736763, 0.026392200961709023, 0.026392200961709023, 0.06830750405788422, 0.1878456324338913, 0.03415375202894211, 0.017076876014471054, 0.6659981608390808, 0.06632670015096664, 0.18239843845367432, 0.2542523741722107, 0.3924329876899719, 0.06079947575926781, 0.044217802584171295, 0.48179879784584045, 0.19960236549377441, 0.13077396154403687, 0.10324259847402573, 0.04129704087972641, 0.048179879784584045, 0.015273441560566425, 0.2443750649690628, 0.015273441560566425, 0.44292980432510376, 0.19855473935604095, 0.07636720687150955, 0.14956125617027283, 0.23431263864040375, 0.12463438510894775, 0.15953201055526733, 0.10469288378953934, 0.2293272614479065, 0.17860625684261322, 0.20718325674533844, 0.18575049936771393, 0.25004875659942627, 0.05715399980545044, 0.11430799961090088, 0.3225570023059845, 0.22647619247436523, 0.13039538264274597, 0.21961328387260437, 0.05490332096815109, 0.04804040491580963, 0.09886657446622849, 0.09886657446622849, 0.7909325957298279, 0.16131436824798584, 0.20025232434272766, 0.637840747833252, 0.0386219285428524, 0.0386219285428524, 0.1544877141714096, 0.7724385857582092, 0.07535147666931152, 0.2411247342824936, 0.07535147666931152, 0.5877415537834167], \"Term\": [\"1\", \"1\", \"1\", \"1\", \"1\", \"15\", \"33000\", \"33000\", \"41\", \"41\", \"41\", \"8\", \"8\", \"8\", \"a\", \"a\", \"a\", \"accord\", \"accord\", \"air\", \"air\", \"al\", \"alabama\", \"alabama\", \"alabama\", \"alabama\", \"alabama\", \"ally\", \"america\", \"america\", \"america\", \"america\", \"america\", \"america\", \"american\", \"american\", \"american\", \"american\", \"american\", \"american\", \"andrew_mccabe\", \"andrew_mccabe\", \"anti\", \"anti\", \"approval_rating\", \"approval_rating\", \"back\", \"back\", \"back\", \"back\", \"back\", \"back\", \"bad\", \"bad\", \"bad\", \"bad\", \"bad\", \"bad\", \"ban\", \"beg\", \"beg\", \"beg\", \"biased\", \"biased\", \"big\", \"big\", \"big\", \"big\", \"big\", \"big\", \"big_tax_cut\", \"big_win\", \"big_win\", \"big_win\", \"big_win\", \"bill\", \"bill\", \"bill\", \"bill\", \"bill\", \"bill\", \"billion\", \"billion\", \"billion\", \"billion\", \"billion\", \"billion_dollar\", \"billion_dollar\", \"billion_dollar\", \"billion_dollar\", \"billion_dollar\", \"birthday\", \"birthday\", \"birthday\", \"bonus\", \"call\", \"call\", \"call\", \"call\", \"call\", \"call\", \"campaign\", \"campaign\", \"campaign\", \"campaign\", \"campaign\", \"campaign\", \"care\", \"care\", \"care\", \"care\", \"challenge\", \"challenge\", \"change\", \"change\", \"change\", \"change\", \"change\", \"change\", \"china\", \"china\", \"china\", \"china\", \"china\", \"china\", \"chuck\", \"chuck\", \"chuck_schumer\", \"cia\", \"cia\", \"clinton\", \"clinton\", \"clinton\", \"clinton_campaign\", \"clinton_campaign\", \"clinton_campaign\", \"clinton_campaign\", \"cnn\", \"cnn\", \"cnn\", \"cnn\", \"cnn\", \"cnn\", \"colorado\", \"come\", \"come\", \"come\", \"come\", \"come\", \"come\", \"committee\", \"committee\", \"complain\", \"complain\", \"consider\", \"consider\", \"consumer_confidence\", \"consumer_confidence\", \"conversation\", \"conversation\", \"country\", \"country\", \"country\", \"country\", \"country\", \"country\", \"courage\", \"coverage\", \"coverage\", \"coverage\", \"create\", \"create\", \"create\", \"create\", \"create\", \"crowd\", \"crowd\", \"crowd\", \"crowd\", \"day\", \"day\", \"day\", \"day\", \"day\", \"day\", \"deep\", \"deep\", \"deep\", \"defense\", \"defense\", \"defense\", \"delegation\", \"delegation\", \"delete\", \"delete\", \"delete\", \"democrat\", \"democrat\", \"democrat\", \"democrat\", \"democrat\", \"democrats\", \"democrats\", \"democrats\", \"democrats\", \"democrats\", \"democrats\", \"director\", \"director\", \"director\", \"director\", \"director\", \"dishonest_medium\", \"dr\", \"dr\", \"dr\", \"draintheswamp\", \"election\", \"election\", \"election\", \"election\", \"election\", \"election\", \"electoral_college\", \"email\", \"email\", \"email\", \"encourage\", \"endorse\", \"endorse\", \"endorse\", \"endorse\", \"endorse\", \"endorse\", \"enjoy\", \"enjoy\", \"enjoy\", \"enjoy\", \"entire\", \"entire\", \"entire\", \"even\", \"even\", \"even\", \"even\", \"even\", \"even\", \"executive_order\", \"executive_order\", \"executive_order\", \"expect\", \"expect\", \"expect\", \"express\", \"facebook\", \"fail_nytime\", \"fail_nytime\", \"fairly\", \"fairly\", \"fairly\", \"fairly\", \"fake_news\", \"fake_news\", \"fake_news\", \"fake_news\", \"fake_news\", \"fake_news\", \"favor\", \"favor\", \"fbi\", \"fbi\", \"fbi\", \"fbi\", \"fbi\", \"fbi\", \"fight\", \"fight\", \"fight\", \"fight\", \"fight\", \"fight\", \"fill\", \"fill\", \"fill\", \"florida\", \"florida\", \"florida\", \"florida\", \"florida\", \"florida\", \"food\", \"food\", \"ford\", \"four\", \"four\", \"friday\", \"g7\", \"g7\", \"g7\", \"gain\", \"gain\", \"gain\", \"game\", \"game\", \"game\", \"game\", \"game\", \"game\", \"gdp\", \"gdp\", \"gdp\", \"gdp\", \"gdp\", \"georgia\", \"georgia\", \"georgia\", \"get\", \"get\", \"get\", \"get\", \"get\", \"get\", \"get_ready\", \"get_ready\", \"get_ready\", \"get_smart\", \"get_smart\", \"get_smart\", \"get_vote\", \"get_vote\", \"get_vote\", \"get_vote\", \"get_vote\", \"give\", \"give\", \"give\", \"give\", \"give\", \"give\", \"go\", \"go\", \"go\", \"go\", \"go\", \"go\", \"good\", \"good\", \"good\", \"good\", \"good\", \"good\", \"great\", \"great\", \"great\", \"great\", \"great\", \"great\", \"great_honor_host\", \"great_honor_host\", \"great_honor_host\", \"great_honor_host\", \"gun\", \"gun\", \"happy\", \"happy\", \"happy\", \"happy\", \"happy\", \"happy\", \"harvey\", \"health\", \"health\", \"healthcare\", \"healthcare\", \"healthcare\", \"healthcare\", \"healthcare\", \"healthcare_plan\", \"healthcare_plan\", \"healthcare_plan\", \"healthcare_plan\", \"highest\", \"highest\", \"hillary\", \"hillary\", \"hillary\", \"hillary\", \"hillary\", \"hillary_clinton\", \"hillary_clinton\", \"hillary_clinton\", \"hillary_clinton\", \"hillary_clinton\", \"hillaryclinton\", \"hillaryclinton\", \"honor\", \"honor\", \"honor\", \"honor\", \"honor\", \"httpstco\", \"icymi_watch\", \"increase\", \"increase\", \"increase\", \"increase\", \"increase\", \"indiana\", \"indiana\", \"info\", \"info\", \"insurance_company\", \"interview\", \"interview\", \"interview\", \"interview\", \"interview\", \"interview\", \"isis\", \"isis\", \"job\", \"job\", \"job\", \"job\", \"job\", \"job\", \"job_job\", \"john\", \"john\", \"john\", \"john\", \"john\", \"join\", \"join\", \"join\", \"join\", \"join\", \"join\", \"join_live\", \"joint_press_conference\", \"joint_press_conference\", \"joint_press_conference\", \"joint_press_conference\", \"jones\", \"k\", \"kneel\", \"kneel\", \"know\", \"know\", \"know\", \"know\", \"know\", \"know\", \"las_vegas\", \"las_vegas\", \"las_vegas\", \"laugh\", \"laugh\", \"laugh\", \"leak\", \"leak\", \"leak\", \"leak\", \"leak\", \"leave\", \"leave\", \"leave\", \"leave\", \"leave\", \"leave\", \"life\", \"life\", \"life\", \"life\", \"life\", \"life\", \"like\", \"like\", \"like\", \"like\", \"like\", \"like\", \"look\", \"look\", \"look\", \"look\", \"look\", \"look\", \"louisiana\", \"louisiana\", \"low\", \"low\", \"low\", \"low\", \"low\", \"low\", \"maga\", \"maga\", \"maga\", \"maga\", \"maga\", \"maga\", \"maga_\\ud83c\\uddfa_\\ud83c\\uddf8\", \"maga_\\ud83c\\uddfa_\\ud83c\\uddf8\", \"maga_\\ud83c\\uddfa_\\ud83c\\uddf8\", \"maga_\\ud83c\\uddfa_\\ud83c\\uddf8\", \"major\", \"major\", \"major\", \"major\", \"major\", \"major\", \"majority\", \"majority\", \"make\", \"make\", \"make\", \"make\", \"make\", \"make\", \"make_america_great\", \"make_america_great\", \"make_america_great\", \"make_america_great\", \"make_america_great\", \"make_america_great\", \"make_deal\", \"make_deal\", \"make_deal\", \"manufacturing\", \"manufacturing\", \"many\", \"many\", \"many\", \"many\", \"many\", \"many\", \"march\", \"massive_tax\", \"medium\", \"medium\", \"medium\", \"medium\", \"medium\", \"meeting\", \"meeting\", \"meeting\", \"meeting\", \"meeting\", \"meeting\", \"melania\", \"melania\", \"memo\", \"memo\", \"memo\", \"message\", \"mexico\", \"mexico\", \"mexico\", \"mexico\", \"mexico\", \"michigan\", \"michigan\", \"michigan\", \"michigan\", \"michigan\", \"middle_class\", \"minute\", \"modern\", \"modern\", \"monitor\", \"movement\", \"movement\", \"movement\", \"ms13\", \"ms13\", \"ms13\", \"much\", \"much\", \"much\", \"much\", \"much\", \"much\", \"must\", \"must\", \"must\", \"must\", \"must\", \"must\", \"national_anthem\", \"national_anthem\", \"national_anthem\", \"national_security\", \"national_security\", \"nbcnew\", \"need\", \"need\", \"need\", \"need\", \"need\", \"need\", \"never\", \"never\", \"never\", \"never\", \"never\", \"never\", \"never_forget\", \"new\", \"new\", \"new\", \"new\", \"new\", \"new\", \"news\", \"news\", \"news\", \"news\", \"news\", \"news\", \"nfl\", \"nfl\", \"nfl\", \"nominate\", \"nominate\", \"nominate\", \"north_korea\", \"north_korea\", \"north_korea\", \"north_korea\", \"north_korea\", \"north_korea\", \"nothing\", \"nothing\", \"nothing\", \"nothing\", \"nothing\", \"nothing\", \"nyc\", \"obama_administration\", \"obama_administration\", \"obama_administration\", \"obama_administration\", \"obamacare\", \"obamacare\", \"obamacare\", \"obamacare\", \"obamacare\", \"obamacare\", \"oh\", \"oh\", \"oh\", \"oh\", \"ohio\", \"ohio\", \"ohio\", \"ohio\", \"ohio\", \"ohio\", \"one\", \"one\", \"one\", \"one\", \"one\", \"one\", \"opinion\", \"opinion\", \"opinion\", \"opportunity\", \"opportunity\", \"opportunity\", \"path\", \"path\", \"path\", \"paul\", \"paul\", \"pay\", \"pay\", \"pay\", \"pay\", \"pay\", \"pay\", \"pennsylvania\", \"pennsylvania\", \"pennsylvania\", \"pennsylvania\", \"pennsylvania\", \"pennsylvania\", \"people\", \"people\", \"people\", \"people\", \"people\", \"people\", \"pledge\", \"pledge\", \"pm\", \"pm\", \"pm\", \"pm\", \"podesta\", \"podesta\", \"podesta\", \"poll\", \"poll\", \"poll\", \"poll\", \"poll\", \"president\", \"president\", \"president\", \"president\", \"president\", \"president\", \"prior\", \"prior\", \"prior\", \"r\", \"radical_islamic\", \"radical_islamic\", \"radical_islamic\", \"radical_islamic\", \"radical_islamic\", \"radical_islamic\", \"raise_tax\", \"raise_tax\", \"rapids\", \"rasmussen\", \"rasmussen\", \"rating\", \"rating\", \"rating\", \"rating\", \"rating\", \"realdonaldtrump\", \"record\", \"record\", \"record\", \"record\", \"record\", \"record\", \"recovery\", \"recovery\", \"red\", \"red\", \"red\", \"regime\", \"remember\", \"remember\", \"remember\", \"remember\", \"remember\", \"remember\", \"remembrance\", \"remembrance\", \"repeal\", \"repeal\", \"repeal_replace\", \"report\", \"report\", \"report\", \"report\", \"report\", \"report\", \"reporter\", \"reporter\", \"reporter\", \"reporter\", \"republican_senator\", \"republican_senator\", \"republicans\", \"republicans\", \"republicans\", \"republicans\", \"republicans\", \"responsible\", \"responsible\", \"responsible\", \"restore\", \"reveal\", \"reveal\", \"reveal\", \"rise\", \"rise\", \"run_congress\", \"run_congress\", \"run_congress\", \"russia\", \"russia\", \"russia\", \"russia\", \"russia\", \"russia\", \"s\", \"s\", \"s\", \"s\", \"s\", \"s\", \"safety\", \"safety\", \"safety\", \"safety\", \"safety\", \"say\", \"say\", \"say\", \"say\", \"say\", \"say\", \"secret\", \"secure_border\", \"secure_border\", \"secure_border\", \"see\", \"see\", \"see\", \"see\", \"see\", \"see\", \"see_soon\", \"see_soon\", \"see_soon\", \"senate\", \"senate\", \"senate\", \"senate\", \"senate\", \"senate\", \"serve\", \"serve\", \"serve\", \"serve\", \"server\", \"server\", \"server\", \"service\", \"service\", \"service\", \"service\", \"session\", \"session\", \"shooting\", \"shooting\", \"shutdown\", \"shutdown\", \"simple\", \"simple\", \"simple\", \"single\", \"single\", \"single\", \"small_business\", \"small_business\", \"speech\", \"speech\", \"speech\", \"speech\", \"spy\", \"spy\", \"spy\", \"spy\", \"spy\", \"staff\", \"staff\", \"staff\", \"stand\", \"stand\", \"stand\", \"stand\", \"stand\", \"stand\", \"start\", \"start\", \"start\", \"start\", \"start\", \"start\", \"state\", \"state\", \"state\", \"state\", \"state\", \"state\", \"steal\", \"steal\", \"steal\", \"steve\", \"steve\", \"story\", \"story\", \"story\", \"story\", \"story\", \"story\", \"strengthen\", \"strengthen\", \"strong_ever\", \"strong_ever\", \"strong_ever\", \"substantially\", \"substantially\", \"substantially\", \"support\", \"support\", \"support\", \"support\", \"support\", \"support\", \"supreme_court\", \"supreme_court\", \"supreme_court\", \"supreme_court\", \"supreme_court\", \"take\", \"take\", \"take\", \"take\", \"take\", \"take\", \"take_office\", \"take_office\", \"take_office\", \"take_office\", \"talk\", \"talk\", \"talk\", \"talk\", \"talk\", \"talk\", \"tax_cut\", \"tax_cut\", \"tax_reform\", \"tax_reform\", \"teacher\", \"teacher\", \"teacher\", \"tennessee\", \"tennessee\", \"tennessee\", \"terrorism\", \"terrorism\", \"terrorist\", \"terrorist_attack\", \"terrorist_attack\", \"texas\", \"texas\", \"texas\", \"texas\", \"texas\", \"thank\", \"thank\", \"thank\", \"thank\", \"thank\", \"thank\", \"threaten\", \"threaten\", \"threaten\", \"thursday\", \"ticket\", \"ticket\", \"time\", \"time\", \"time\", \"time\", \"time\", \"time\", \"today\", \"today\", \"today\", \"today\", \"today\", \"today\", \"tomorrow\", \"tomorrow\", \"tomorrow\", \"tomorrow\", \"tomorrow\", \"tonight\", \"tonight\", \"tonight\", \"tonight\", \"tonight\", \"tonight\", \"total\", \"total\", \"total\", \"total\", \"total\", \"total\", \"totally\", \"totally\", \"totally\", \"totally\", \"totally\", \"totally\", \"trade_deficit\", \"trade_deficit\", \"trade_deficit\", \"travel\", \"travel\", \"travel_ban\", \"trillion\", \"trillion\", \"trillion\", \"trillion_dollar\", \"trump\", \"trump\", \"trump\", \"trump\", \"trump\", \"trump\", \"truth\", \"truth\", \"tuckercarlson\", \"tuckercarlson\", \"tuckercarlson\", \"tuckercarlson\", \"unprecedented\", \"unprecedented\", \"unprecedented\", \"us\", \"us\", \"us\", \"us\", \"us\", \"us\", \"use\", \"use\", \"use\", \"use\", \"use\", \"use\", \"usnavy\", \"usnavy\", \"value\", \"value\", \"value\", \"veterans\", \"veterans\", \"victim\", \"victim\", \"victim\", \"video\", \"vietnam\", \"vote\", \"vote\", \"vote\", \"vote\", \"vote\", \"vote\", \"voter_fraud\", \"vp\", \"vp\", \"vp\", \"vp_pence\", \"w\", \"w\", \"w\", \"w\", \"wall\", \"wall\", \"wall\", \"wall\", \"wall\", \"wall\", \"want\", \"want\", \"want\", \"want\", \"want\", \"want\", \"watch\", \"watch\", \"watch\", \"watch\", \"watch\", \"watch\", \"watch_\\u2026\", \"water\", \"water\", \"way\", \"way\", \"way\", \"way\", \"way\", \"way\", \"welcome\", \"welcome\", \"well\", \"well\", \"well\", \"well\", \"well\", \"well\", \"white_house\", \"white_house\", \"white_house\", \"white_house\", \"white_house\", \"white_house\", \"whitehouse\", \"whitehouse\", \"whitehouse\", \"whitehouse\", \"whitehouse\", \"whitehouse\", \"whitehouse_today\", \"win\", \"win\", \"win\", \"win\", \"win\", \"win\", \"wisconsin\", \"wisconsin\", \"wisconsin\", \"wisconsin\", \"woman\", \"woman\", \"woman\", \"woman\", \"woman\", \"work\", \"work\", \"work\", \"work\", \"work\", \"work\", \"would\", \"would\", \"would\", \"would\", \"would\", \"would\", \"wow\", \"wow\", \"wow\", \"wow\", \"wow\", \"wow\", \"year\", \"year\", \"year\", \"year\", \"year\", \"year\", \"\\u2019\", \"\\u2019\", \"\\u2019\", \"\\u2019\", \"\\u2019\", \"\\u2019\", \"\\u2019_s\", \"\\u2019_s\", \"\\u2019_s\", \"\\u2019_s\", \"\\u2019_s\", \"\\u2019_s\", \"\\u201d\", \"\\u201d\", \"\\u201d\", \"\\u2026\", \"\\u2026\", \"\\u2026\", \"\\u27a1_\\ufe0f_\\u2026\", \"\\u27a1_\\ufe0f_\\u2026\", \"\\u27a1_\\ufe0f_\\u2026\", \"\\u27a1_\\ufe0f_\\u2026\", \"\\ud83c\\uddfa_\\ud83c\\uddf8\", \"\\ud83c\\uddfa_\\ud83c\\uddf8\", \"\\ud83c\\uddfa_\\ud83c\\uddf8\", \"\\ud83c\\uddfa_\\ud83c\\uddf8\"]}, \"R\": 30, \"lambda.step\": 0.01, \"plot.opts\": {\"xlab\": \"PC1\", \"ylab\": \"PC2\"}, \"topic.order\": [1, 6, 5, 4, 3, 2]};\n",
       "\n",
       "function LDAvis_load_lib(url, callback){\n",
       "  var s = document.createElement('script');\n",
       "  s.src = url;\n",
       "  s.async = true;\n",
       "  s.onreadystatechange = s.onload = callback;\n",
       "  s.onerror = function(){console.warn(\"failed to load library \" + url);};\n",
       "  document.getElementsByTagName(\"head\")[0].appendChild(s);\n",
       "}\n",
       "\n",
       "if(typeof(LDAvis) !== \"undefined\"){\n",
       "   // already loaded: just create the visualization\n",
       "   !function(LDAvis){\n",
       "       new LDAvis(\"#\" + \"ldavis_el121323000148325454160214\", ldavis_el121323000148325454160214_data);\n",
       "   }(LDAvis);\n",
       "}else if(typeof define === \"function\" && define.amd){\n",
       "   // require.js is available: use it to load d3/LDAvis\n",
       "   require.config({paths: {d3: \"https://cdnjs.cloudflare.com/ajax/libs/d3/3.5.5/d3.min\"}});\n",
       "   require([\"d3\"], function(d3){\n",
       "      window.d3 = d3;\n",
       "      LDAvis_load_lib(\"https://cdn.rawgit.com/bmabey/pyLDAvis/files/ldavis.v1.0.0.js\", function(){\n",
       "        new LDAvis(\"#\" + \"ldavis_el121323000148325454160214\", ldavis_el121323000148325454160214_data);\n",
       "      });\n",
       "    });\n",
       "}else{\n",
       "    // require.js not available: dynamically load d3 & LDAvis\n",
       "    LDAvis_load_lib(\"https://cdnjs.cloudflare.com/ajax/libs/d3/3.5.5/d3.min.js\", function(){\n",
       "         LDAvis_load_lib(\"https://cdn.rawgit.com/bmabey/pyLDAvis/files/ldavis.v1.0.0.js\", function(){\n",
       "                 new LDAvis(\"#\" + \"ldavis_el121323000148325454160214\", ldavis_el121323000148325454160214_data);\n",
       "            })\n",
       "         });\n",
       "}\n",
       "</script>"
      ],
      "text/plain": [
       "<IPython.core.display.HTML object>"
      ]
     },
     "execution_count": 38,
     "metadata": {},
     "output_type": "execute_result"
    }
   ],
   "source": [
    "import warnings\n",
    "warnings.filterwarnings(\"ignore\", category=DeprecationWarning)\n",
    "t_dict, corpus = corpus_creator(qgrammed_text)\n",
    "print('building lda model')\n",
    "lda = LdaModel(corpus, num_topics = 6, id2word = t_dict)\n",
    "pyLDAvis.enable_notebook() \n",
    "print('creating lda visualization')\n",
    "LDAvis_prepared = pyLDAvis.gensim.prepare(lda, corpus, t_dict)\n",
    "pyLDAvis.display(LDAvis_prepared)"
   ]
  },
  {
   "cell_type": "markdown",
   "metadata": {},
   "source": [
    "Ok, there's the LDA model visulized. We see some seperation of topics. Topic 4 seems to be focussed on Hillary Clinton's campaign and the FBI investigation into her email server. Also Wall, tax cuts, repeal-replace, the heavy weight campaigning material. Topic 2 seems to be about Fake News. Contains, predictable CNN, NBS News, Facebook, biased etc, Trump's now familiar laments. Topic 6 is somewhat confusing but has VP Pence, NFL, kneel etc on the Trump and Pence's opposition to kneeling during the national anthem in NFL games. Topic 5 has travel ban, mexico, Ford bringing back jobs, somewhat Foreign policy related. You can explore the visualization above to see if you can spot some trends. Also play with the number of topics that you want the model to uncover. I noticed that between 4 and 8 gives somewhat sensible results. "
   ]
  },
  {
   "cell_type": "code",
   "execution_count": null,
   "metadata": {},
   "outputs": [],
   "source": []
  }
 ],
 "metadata": {
  "kernelspec": {
   "display_name": "Python 3",
   "language": "python",
   "name": "python3"
  },
  "language_info": {
   "codemirror_mode": {
    "name": "ipython",
    "version": 3
   },
   "file_extension": ".py",
   "mimetype": "text/x-python",
   "name": "python",
   "nbconvert_exporter": "python",
   "pygments_lexer": "ipython3",
   "version": "3.7.0"
  }
 },
 "nbformat": 4,
 "nbformat_minor": 2
}
